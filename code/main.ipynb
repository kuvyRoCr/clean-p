{
 "cells": [
  {
   "cell_type": "code",
   "execution_count": 1,
   "metadata": {},
   "outputs": [
    {
     "data": {
      "text/html": [
       "<table style=\"border: 2px solid white;\">\n",
       "<tr>\n",
       "<td style=\"vertical-align: top; border: 0px solid white\">\n",
       "<h3 style=\"text-align: left;\">Client</h3>\n",
       "<ul style=\"text-align: left; list-style: none; margin: 0; padding: 0;\">\n",
       "  <li><b>Scheduler: </b>tcp://127.0.0.1:45091</li>\n",
       "  <li><b>Dashboard: </b><a href='http://127.0.0.1:8787/status' target='_blank'>http://127.0.0.1:8787/status</a>\n",
       "</ul>\n",
       "</td>\n",
       "<td style=\"vertical-align: top; border: 0px solid white\">\n",
       "<h3 style=\"text-align: left;\">Cluster</h3>\n",
       "<ul style=\"text-align: left; list-style:none; margin: 0; padding: 0;\">\n",
       "  <li><b>Workers: </b>4</li>\n",
       "  <li><b>Cores: </b>16</li>\n",
       "  <li><b>Memory: </b>16.83 GB</li>\n",
       "</ul>\n",
       "</td>\n",
       "</tr>\n",
       "</table>"
      ],
      "text/plain": [
       "<Client: 'tcp://127.0.0.1:45091' processes=4 threads=16, memory=16.83 GB>"
      ]
     },
     "execution_count": 1,
     "metadata": {},
     "output_type": "execute_result"
    }
   ],
   "source": []
  },
  {
   "cell_type": "code",
   "execution_count": 2,
   "metadata": {},
   "outputs": [],
   "source": [
    "import dask\n",
    "import dask.dataframe as dd\n",
    "from dask.distributed import Client, LocalCluster\n",
    "cluster = LocalCluster() \n",
    "client = Client(cluster)\n",
    "client"
   ]
  },
  {
   "cell_type": "code",
   "execution_count": 3,
   "metadata": {},
   "outputs": [],
   "source": [
    "cars=dd.read_csv('./../input/cars_train.csv')"
   ]
  },
  {
   "cell_type": "code",
   "execution_count": 4,
   "metadata": {},
   "outputs": [],
   "source": [
    "carsTest=dd.read_csv('./../input/cars_test.csv')"
   ]
  },
  {
   "cell_type": "code",
   "execution_count": 5,
   "metadata": {},
   "outputs": [
    {
     "data": {
      "text/plain": [
       "37260"
      ]
     },
     "execution_count": 5,
     "metadata": {},
     "output_type": "execute_result"
    }
   ],
   "source": [
    "cars.head()"
   ]
  },
  {
   "cell_type": "code",
   "execution_count": 6,
   "metadata": {},
   "outputs": [
    {
     "data": {
      "text/plain": [
       "(469992, 24)"
      ]
     },
     "execution_count": 6,
     "metadata": {},
     "output_type": "execute_result"
    }
   ],
   "source": [
    "cars.compute().shape"
   ]
  },
  {
   "cell_type": "code",
   "execution_count": 7,
   "metadata": {},
   "outputs": [
    {
     "data": {
      "text/plain": [
       "Id                int64\n",
       "city             object\n",
       "year            float64\n",
       "manufacturer     object\n",
       "make             object\n",
       "condition        object\n",
       "cylinders        object\n",
       "fuel             object\n",
       "odometer        float64\n",
       "title_status     object\n",
       "transmission     object\n",
       "drive            object\n",
       "size             object\n",
       "type             object\n",
       "paint_color      object\n",
       "lat             float64\n",
       "long            float64\n",
       "county_fips     float64\n",
       "county_name      object\n",
       "state_fips      float64\n",
       "state_code       object\n",
       "state_name       object\n",
       "weather         float64\n",
       "price             int64\n",
       "dtype: object"
      ]
     },
     "execution_count": 7,
     "metadata": {},
     "output_type": "execute_result"
    }
   ],
   "source": [
    "cars.dtypes"
   ]
  },
  {
   "cell_type": "code",
   "execution_count": 8,
   "metadata": {},
   "outputs": [
    {
     "data": {
      "text/plain": [
       "Id                   0\n",
       "city                 0\n",
       "year              1713\n",
       "manufacturer     37260\n",
       "make             19078\n",
       "condition       191021\n",
       "cylinders       188076\n",
       "fuel              2844\n",
       "odometer        153465\n",
       "title_status       708\n",
       "transmission      2447\n",
       "drive           180334\n",
       "size            306775\n",
       "type            191640\n",
       "paint_color     189613\n",
       "lat                  0\n",
       "long                 0\n",
       "county_fips      16009\n",
       "county_name      16009\n",
       "state_fips       16009\n",
       "state_code       16009\n",
       "state_name           0\n",
       "weather          16182\n",
       "price                0\n",
       "dtype: int64"
      ]
     },
     "execution_count": 8,
     "metadata": {},
     "output_type": "execute_result"
    }
   ],
   "source": [
    "cars.isnull().sum().compute()"
   ]
  },
  {
   "cell_type": "code",
   "execution_count": 9,
   "metadata": {},
   "outputs": [
    {
     "data": {
      "text/plain": [
       "Id                   0\n",
       "city                 0\n",
       "year              1713\n",
       "manufacturer     37260\n",
       "make             19078\n",
       "condition       191021\n",
       "cylinders       188076\n",
       "fuel              2844\n",
       "odometer        153465\n",
       "title_status       708\n",
       "transmission      2447\n",
       "drive           180334\n",
       "size            306775\n",
       "type            191640\n",
       "paint_color     189613\n",
       "lat                  0\n",
       "long                 0\n",
       "county_fips      16009\n",
       "county_name      16009\n",
       "state_fips       16009\n",
       "state_code       16009\n",
       "state_name           0\n",
       "weather          16182\n",
       "price                0\n",
       "dtype: int64"
      ]
     },
     "execution_count": 9,
     "metadata": {},
     "output_type": "execute_result"
    }
   ],
   "source": [
    "cars.isna().sum().compute()"
   ]
  },
  {
   "cell_type": "code",
   "execution_count": 10,
   "metadata": {},
   "outputs": [],
   "source": [
    "'''por lo pronto veo que hay varias columnas que se refieren a la localización, por lo que creo que voy a quedar\n",
    "solo con una,stateName, que no tiene nulos y ademas tiene 52 unicos, que coincide con los 50 estados de USA,cuento\n",
    "los desconocidos y corrijo un pequeño error'''\n",
    "listaEstados=list(cars.state_name.unique().compute())"
   ]
  },
  {
   "cell_type": "code",
   "execution_count": 11,
   "metadata": {},
   "outputs": [
    {
     "data": {
      "text/plain": [
       "52"
      ]
     },
     "execution_count": 11,
     "metadata": {},
     "output_type": "execute_result"
    }
   ],
   "source": [
    "len(listaEstados)"
   ]
  },
  {
   "cell_type": "code",
   "execution_count": 12,
   "metadata": {},
   "outputs": [
    {
     "data": {
      "text/plain": [
       "FAILED    16009\n",
       "Name: state_name, dtype: int64"
      ]
     },
     "execution_count": 12,
     "metadata": {},
     "output_type": "execute_result"
    }
   ],
   "source": [
    "cars[cars.state_name=='FAILED'].state_name.value_counts().compute()"
   ]
  },
  {
   "cell_type": "code",
   "execution_count": 13,
   "metadata": {},
   "outputs": [
    {
     "data": {
      "text/plain": [
       "'coincide con los valores de nulos en code,fips, voy a mirar las esas filas de la columnas ciudad, igual puedo sacar el estado de esas 16000'"
      ]
     },
     "execution_count": 13,
     "metadata": {},
     "output_type": "execute_result"
    }
   ],
   "source": [
    "\"coincide con los valores de nulos en code,fips, voy a mirar las esas filas de la columnas ciudad, igual puedo sacar el estado de esas 16000\""
   ]
  },
  {
   "cell_type": "code",
   "execution_count": 14,
   "metadata": {},
   "outputs": [
    {
     "data": {
      "text/plain": [
       "0      abbotsford\n",
       "1       vancouver\n",
       "2         kelowna\n",
       "3         nanaimo\n",
       "4        winnipeg\n",
       "          ...    \n",
       "260      limaohio\n",
       "261    providence\n",
       "262    charleston\n",
       "263        monroe\n",
       "264        ithaca\n",
       "Name: city, Length: 265, dtype: object"
      ]
     },
     "execution_count": 14,
     "metadata": {},
     "output_type": "execute_result"
    }
   ],
   "source": [
    "cars[cars.state_name=='FAILED'].city.unique().compute()"
   ]
  },
  {
   "cell_type": "code",
   "execution_count": 15,
   "metadata": {},
   "outputs": [
    {
     "data": {
      "text/plain": [
       "13696"
      ]
     },
     "execution_count": 15,
     "metadata": {},
     "output_type": "execute_result"
    }
   ],
   "source": [
    "\"\"\"Hay demasiadas como para hacerlas a mano, además hay ciudades de Canada, voy a hacer el value count a ver si puedo\n",
    "rescatar la mayoría a mano, resulta que las 20 con más registros cubren 13600 casos de los 16.000 y son todas\n",
    "ciudades canadienses, en Canadá el volante lo tienen a la derecha, y eso es algo que influye mucho en el precio,\n",
    "por lo que tenemos valor de estado, para 1000 y pico que restan creo que merece la pena tambien categorizarlas\n",
    "como canada, antes que desconocido, porque me da que vamos a acertar más que fallar\"\"\"\n",
    "cars[cars.state_name=='FAILED'].city.value_counts().head(10).sum()\n"
   ]
  },
  {
   "cell_type": "code",
   "execution_count": 16,
   "metadata": {},
   "outputs": [
    {
     "data": {
      "text/plain": [
       "(Index(['vancouver', 'abbotsford', 'whistler', 'victoria', 'nanaimo', 'kelowna',\n",
       "        'comoxvalley', 'kamloops', 'toronto', 'sunshine', 'princegeorge',\n",
       "        'montreal', 'kootenays', 'calgary', 'edmonton', 'cariboo', 'ftmcmurray',\n",
       "        'ottawa', 'skeena', 'saskatoon'],\n",
       "       dtype='object'),)"
      ]
     },
     "execution_count": 16,
     "metadata": {},
     "output_type": "execute_result"
    }
   ],
   "source": [
    "cars[cars.state_name=='FAILED'].city.value_counts().head(20).index,"
   ]
  },
  {
   "cell_type": "code",
   "execution_count": 17,
   "metadata": {},
   "outputs": [
    {
     "name": "stderr",
     "output_type": "stream",
     "text": [
      "/home/curro/Repos/clean-p/env/lib/python3.6/site-packages/dask/dataframe/core.py:2957: UserWarning: \n",
      "You did not provide metadata, so Dask is running your function on a small dataset to guess output types. It is possible that Dask will guess incorrectly.\n",
      "To provide an explicit output types or to silence this message, please provide the `meta=` keyword, as described in the map or apply function that you are using.\n",
      "  Before: .apply(func)\n",
      "  After:  .apply(func, meta=('state_name', 'object'))\n",
      "\n",
      "  warnings.warn(meta_warning(meta))\n"
     ]
    }
   ],
   "source": [
    "#Todas son ciudades de canada\n",
    "from preparingDf import cleanNameStateName,dropLocationColumns\n",
    "cars.state_name=cars.state_name.apply(cleanNameStateName)\n",
    "cars= dropLocationColumns(cars)"
   ]
  },
  {
   "cell_type": "code",
   "execution_count": 18,
   "metadata": {},
   "outputs": [
    {
     "data": {
      "text/html": [
       "<div>\n",
       "<style scoped>\n",
       "    .dataframe tbody tr th:only-of-type {\n",
       "        vertical-align: middle;\n",
       "    }\n",
       "\n",
       "    .dataframe tbody tr th {\n",
       "        vertical-align: top;\n",
       "    }\n",
       "\n",
       "    .dataframe thead th {\n",
       "        text-align: right;\n",
       "    }\n",
       "</style>\n",
       "<table border=\"1\" class=\"dataframe\">\n",
       "  <thead>\n",
       "    <tr style=\"text-align: right;\">\n",
       "      <th></th>\n",
       "      <th>Id</th>\n",
       "      <th>year</th>\n",
       "      <th>manufacturer</th>\n",
       "      <th>make</th>\n",
       "      <th>condition</th>\n",
       "      <th>cylinders</th>\n",
       "      <th>fuel</th>\n",
       "      <th>odometer</th>\n",
       "      <th>title_status</th>\n",
       "      <th>transmission</th>\n",
       "      <th>drive</th>\n",
       "      <th>size</th>\n",
       "      <th>type</th>\n",
       "      <th>paint_color</th>\n",
       "      <th>state_name</th>\n",
       "      <th>weather</th>\n",
       "      <th>price</th>\n",
       "    </tr>\n",
       "  </thead>\n",
       "  <tbody>\n",
       "    <tr>\n",
       "      <td>0</td>\n",
       "      <td>559327</td>\n",
       "      <td>2006.0</td>\n",
       "      <td>NaN</td>\n",
       "      <td>Scion tc</td>\n",
       "      <td>excellent</td>\n",
       "      <td>4 cylinders</td>\n",
       "      <td>gas</td>\n",
       "      <td>190000.0</td>\n",
       "      <td>clean</td>\n",
       "      <td>automatic</td>\n",
       "      <td>NaN</td>\n",
       "      <td>NaN</td>\n",
       "      <td>NaN</td>\n",
       "      <td>blue</td>\n",
       "      <td>Maryland</td>\n",
       "      <td>56.0</td>\n",
       "      <td>3200</td>\n",
       "    </tr>\n",
       "    <tr>\n",
       "      <td>1</td>\n",
       "      <td>1429566</td>\n",
       "      <td>2018.0</td>\n",
       "      <td>dodge</td>\n",
       "      <td>charger sxt</td>\n",
       "      <td>NaN</td>\n",
       "      <td>NaN</td>\n",
       "      <td>gas</td>\n",
       "      <td>NaN</td>\n",
       "      <td>clean</td>\n",
       "      <td>automatic</td>\n",
       "      <td>NaN</td>\n",
       "      <td>NaN</td>\n",
       "      <td>NaN</td>\n",
       "      <td>NaN</td>\n",
       "      <td>Illinois</td>\n",
       "      <td>48.0</td>\n",
       "      <td>30620</td>\n",
       "    </tr>\n",
       "    <tr>\n",
       "      <td>2</td>\n",
       "      <td>931606</td>\n",
       "      <td>1997.0</td>\n",
       "      <td>ford</td>\n",
       "      <td>f 250 2 wheel dr pickup</td>\n",
       "      <td>fair</td>\n",
       "      <td>NaN</td>\n",
       "      <td>gas</td>\n",
       "      <td>NaN</td>\n",
       "      <td>clean</td>\n",
       "      <td>automatic</td>\n",
       "      <td>NaN</td>\n",
       "      <td>NaN</td>\n",
       "      <td>pickup</td>\n",
       "      <td>white</td>\n",
       "      <td>Michigan</td>\n",
       "      <td>45.0</td>\n",
       "      <td>1800</td>\n",
       "    </tr>\n",
       "    <tr>\n",
       "      <td>3</td>\n",
       "      <td>1265412</td>\n",
       "      <td>2003.0</td>\n",
       "      <td>ram</td>\n",
       "      <td>NaN</td>\n",
       "      <td>NaN</td>\n",
       "      <td>8 cylinders</td>\n",
       "      <td>gas</td>\n",
       "      <td>NaN</td>\n",
       "      <td>clean</td>\n",
       "      <td>automatic</td>\n",
       "      <td>NaN</td>\n",
       "      <td>NaN</td>\n",
       "      <td>NaN</td>\n",
       "      <td>NaN</td>\n",
       "      <td>Texas</td>\n",
       "      <td>67.0</td>\n",
       "      <td>4500</td>\n",
       "    </tr>\n",
       "    <tr>\n",
       "      <td>4</td>\n",
       "      <td>1133731</td>\n",
       "      <td>2000.0</td>\n",
       "      <td>dodge</td>\n",
       "      <td>1500</td>\n",
       "      <td>NaN</td>\n",
       "      <td>NaN</td>\n",
       "      <td>gas</td>\n",
       "      <td>NaN</td>\n",
       "      <td>clean</td>\n",
       "      <td>automatic</td>\n",
       "      <td>NaN</td>\n",
       "      <td>NaN</td>\n",
       "      <td>NaN</td>\n",
       "      <td>NaN</td>\n",
       "      <td>Florida</td>\n",
       "      <td>65.0</td>\n",
       "      <td>1400</td>\n",
       "    </tr>\n",
       "  </tbody>\n",
       "</table>\n",
       "</div>"
      ],
      "text/plain": [
       "        Id    year manufacturer                     make  condition  \\\n",
       "0   559327  2006.0          NaN                 Scion tc  excellent   \n",
       "1  1429566  2018.0        dodge              charger sxt        NaN   \n",
       "2   931606  1997.0         ford  f 250 2 wheel dr pickup       fair   \n",
       "3  1265412  2003.0          ram                      NaN        NaN   \n",
       "4  1133731  2000.0        dodge                     1500        NaN   \n",
       "\n",
       "     cylinders fuel  odometer title_status transmission drive size    type  \\\n",
       "0  4 cylinders  gas  190000.0        clean    automatic   NaN  NaN     NaN   \n",
       "1          NaN  gas       NaN        clean    automatic   NaN  NaN     NaN   \n",
       "2          NaN  gas       NaN        clean    automatic   NaN  NaN  pickup   \n",
       "3  8 cylinders  gas       NaN        clean    automatic   NaN  NaN     NaN   \n",
       "4          NaN  gas       NaN        clean    automatic   NaN  NaN     NaN   \n",
       "\n",
       "  paint_color state_name  weather  price  \n",
       "0        blue   Maryland     56.0   3200  \n",
       "1         NaN   Illinois     48.0  30620  \n",
       "2       white   Michigan     45.0   1800  \n",
       "3         NaN      Texas     67.0   4500  \n",
       "4         NaN    Florida     65.0   1400  "
      ]
     },
     "execution_count": 18,
     "metadata": {},
     "output_type": "execute_result"
    }
   ],
   "source": [
    "cars.head()"
   ]
  },
  {
   "cell_type": "code",
   "execution_count": 19,
   "metadata": {},
   "outputs": [
    {
     "data": {
      "text/plain": [
       "51"
      ]
     },
     "execution_count": 19,
     "metadata": {},
     "output_type": "execute_result"
    }
   ],
   "source": [
    "len(cars.state_name.unique())#50 estados de USA + un valor para canadá"
   ]
  },
  {
   "cell_type": "code",
   "execution_count": 20,
   "metadata": {},
   "outputs": [
    {
     "data": {
      "text/plain": [
       "2007.0    29252\n",
       "2008.0    28085\n",
       "2006.0    27597\n",
       "2015.0    25785\n",
       "2005.0    25316\n",
       "          ...  \n",
       "1902.0        2\n",
       "1913.0        1\n",
       "1912.0        1\n",
       "1909.0        1\n",
       "1907.0        1\n",
       "Name: year, Length: 115, dtype: int64"
      ]
     },
     "execution_count": 20,
     "metadata": {},
     "output_type": "execute_result"
    }
   ],
   "source": [
    "#vamos con los años,\n",
    "cars.year.value_counts().compute()"
   ]
  },
  {
   "cell_type": "code",
   "execution_count": 21,
   "metadata": {},
   "outputs": [],
   "source": [
    "from preparingDf import fillnaYear,cleanYear\n",
    "cars = fillnaYear(cars)"
   ]
  },
  {
   "cell_type": "code",
   "execution_count": 22,
   "metadata": {},
   "outputs": [],
   "source": [
    "\"\"\"115 años me cuadra, esta columna me cuadra, los perdidos lo voy a inicializar a 0.0, y despues voy a hacer un\n",
    "cast a string porque quiero tener esta columna como object para cuando llegue la fase de preparación\"\"\"\n",
    "\n",
    "cars.year=cars.year.apply(cleanYear,meta=('year', 'object'))"
   ]
  },
  {
   "cell_type": "code",
   "execution_count": 23,
   "metadata": {},
   "outputs": [
    {
     "data": {
      "text/plain": [
       "Id                int64\n",
       "year             object\n",
       "manufacturer     object\n",
       "make             object\n",
       "condition        object\n",
       "cylinders        object\n",
       "fuel             object\n",
       "odometer        float64\n",
       "title_status     object\n",
       "transmission     object\n",
       "drive            object\n",
       "size             object\n",
       "type             object\n",
       "paint_color      object\n",
       "state_name       object\n",
       "weather         float64\n",
       "price             int64\n",
       "dtype: object"
      ]
     },
     "execution_count": 23,
     "metadata": {},
     "output_type": "execute_result"
    }
   ],
   "source": [
    "cars.dtypes"
   ]
  },
  {
   "cell_type": "code",
   "execution_count": null,
   "metadata": {},
   "outputs": [],
   "source": []
  },
  {
   "cell_type": "code",
   "execution_count": null,
   "metadata": {},
   "outputs": [],
   "source": []
  },
  {
   "cell_type": "code",
   "execution_count": null,
   "metadata": {},
   "outputs": [],
   "source": []
  },
  {
   "cell_type": "code",
   "execution_count": 24,
   "metadata": {
    "scrolled": true
   },
   "outputs": [
    {
     "name": "stderr",
     "output_type": "stream",
     "text": [
      "/home/curro/Repos/clean-p/env/lib/python3.6/site-packages/dask/dataframe/core.py:2957: UserWarning: \n",
      "You did not provide metadata, so Dask is running your function on a small dataset to guess output types. It is possible that Dask will guess incorrectly.\n",
      "To provide an explicit output types or to silence this message, please provide the `meta=` keyword, as described in the map or apply function that you are using.\n",
      "  Before: .apply(func)\n",
      "  After:  .apply(func, meta=('manufacturer', 'object'))\n",
      "\n",
      "  warnings.warn(meta_warning(meta))\n"
     ]
    }
   ],
   "source": [
    "from preparingDf import cleanManufacturer1\n",
    "cars.manufacturer=cars.manufacturer.apply(cleanManufacturer1)\n",
    "listaMarcas=sorted(list(cars.manufacturer.unique().compute()))"
   ]
  },
  {
   "cell_type": "code",
   "execution_count": 30,
   "metadata": {},
   "outputs": [
    {
     "ename": "ValueError",
     "evalue": "list.remove(x): x not in list",
     "output_type": "error",
     "traceback": [
      "\u001b[0;31m---------------------------------------------------------------------------\u001b[0m",
      "\u001b[0;31mValueError\u001b[0m                                Traceback (most recent call last)",
      "\u001b[0;32m<ipython-input-30-b6798e49291a>\u001b[0m in \u001b[0;36m<module>\u001b[0;34m\u001b[0m\n\u001b[0;32m----> 1\u001b[0;31m \u001b[0mlistaMarcas\u001b[0m\u001b[0;34m.\u001b[0m\u001b[0mremove\u001b[0m\u001b[0;34m(\u001b[0m\u001b[0;34m'nan'\u001b[0m\u001b[0;34m)\u001b[0m\u001b[0;34m\u001b[0m\u001b[0;34m\u001b[0m\u001b[0m\n\u001b[0m",
      "\u001b[0;31mValueError\u001b[0m: list.remove(x): x not in list"
     ]
    }
   ],
   "source": [
    "listaMarcas.remove('nan')"
   ]
  },
  {
   "cell_type": "code",
   "execution_count": 39,
   "metadata": {},
   "outputs": [],
   "source": []
  },
  {
   "cell_type": "code",
   "execution_count": 40,
   "metadata": {},
   "outputs": [],
   "source": [
    "cars=cars.apply(lambda row:cleanManufacturer2(row,listaMarcas),axis=1)"
   ]
  },
  {
   "cell_type": "code",
   "execution_count": 42,
   "metadata": {},
   "outputs": [
    {
     "data": {
      "text/plain": [
       "ford            80180\n",
       "chevrolet       71465\n",
       "unknown         35906\n",
       "toyota          31788\n",
       "honda           29554\n",
       "nissan          21961\n",
       "dodge           20828\n",
       "jeep            20386\n",
       "gmc             19309\n",
       "ram             15739\n",
       "bmw             11908\n",
       "volkswagen      10351\n",
       "hyundai          9098\n",
       "chrysler         8678\n",
       "mercedes         8580\n",
       "subaru           8110\n",
       "cadillac         6829\n",
       "kia              6807\n",
       "mazda            6545\n",
       "buick            6285\n",
       "pontiac          6094\n",
       "lexus            5539\n",
       "audi             4104\n",
       "lincoln          3561\n",
       "infiniti         3259\n",
       "volvo            2996\n",
       "mitsubishi       2950\n",
       "mercury          2800\n",
       "saturn           2608\n",
       "mini             1759\n",
       "rover            1520\n",
       "jaguar           1194\n",
       "fiat              560\n",
       "harley            207\n",
       "datsun            164\n",
       "infinity          152\n",
       "alfa-romeo         63\n",
       "ferrari            62\n",
       "landrover          34\n",
       "porche             28\n",
       "aston-martin       27\n",
       "morgan              4\n",
       "Name: manufacturer, dtype: int64"
      ]
     },
     "execution_count": 42,
     "metadata": {},
     "output_type": "execute_result"
    }
   ],
   "source": [
    "cars.manufacturer.value_counts()"
   ]
  },
  {
   "cell_type": "code",
   "execution_count": 3,
   "metadata": {},
   "outputs": [
    {
     "name": "stderr",
     "output_type": "stream",
     "text": [
      "/home/curro/Repos/clean-p/env/lib/python3.6/site-packages/dask/dataframe/core.py:2957: UserWarning: \n",
      "You did not provide metadata, so Dask is running your function on a small dataset to guess output types. It is possible that Dask will guess incorrectly.\n",
      "To provide an explicit output types or to silence this message, please provide the `meta=` keyword, as described in the map or apply function that you are using.\n",
      "  Before: .apply(func)\n",
      "  After:  .apply(func, meta=('state_name', 'object'))\n",
      "\n",
      "  warnings.warn(meta_warning(meta))\n",
      "/home/curro/Repos/clean-p/env/lib/python3.6/site-packages/dask/dataframe/core.py:2957: UserWarning: \n",
      "You did not provide metadata, so Dask is running your function on a small dataset to guess output types. It is possible that Dask will guess incorrectly.\n",
      "To provide an explicit output types or to silence this message, please provide the `meta=` keyword, as described in the map or apply function that you are using.\n",
      "  Before: .apply(func)\n",
      "  After:  .apply(func, meta=('manufacturer', 'object'))\n",
      "\n",
      "  warnings.warn(meta_warning(meta))\n",
      "/home/curro/Repos/clean-p/env/lib/python3.6/site-packages/dask/dataframe/core.py:3981: UserWarning: \n",
      "You did not provide metadata, so Dask is running your function on a small dataset to guess output types. It is possible that Dask will guess incorrectly.\n",
      "To provide an explicit output types or to silence this message, please provide the `meta=` keyword, as described in the map or apply function that you are using.\n",
      "  Before: .apply(func)\n",
      "  After:  .apply(func, meta={'Id': 'int64', 'year': 'object', 'manufacturer': 'object', 'make': 'object', 'condition': 'object', 'cylinders': 'object', 'fuel': 'object', 'odometer': 'float64', 'title_status': 'object', 'transmission': 'object', 'drive': 'object', 'size': 'object', 'type': 'object', 'paint_color': 'object', 'state_name': 'object', 'weather': 'float64', 'price': 'int64'})\n",
      "\n",
      "  warnings.warn(meta_warning(meta))\n"
     ]
    }
   ],
   "source": [
    "from preparingDf import cleanAllDf\n",
    "cars=cleanAllDf()"
   ]
  },
  {
   "cell_type": "code",
   "execution_count": 4,
   "metadata": {},
   "outputs": [
    {
     "data": {
      "text/html": [
       "<div>\n",
       "<style scoped>\n",
       "    .dataframe tbody tr th:only-of-type {\n",
       "        vertical-align: middle;\n",
       "    }\n",
       "\n",
       "    .dataframe tbody tr th {\n",
       "        vertical-align: top;\n",
       "    }\n",
       "\n",
       "    .dataframe thead th {\n",
       "        text-align: right;\n",
       "    }\n",
       "</style>\n",
       "<table border=\"1\" class=\"dataframe\">\n",
       "  <thead>\n",
       "    <tr style=\"text-align: right;\">\n",
       "      <th></th>\n",
       "      <th>Id</th>\n",
       "      <th>year</th>\n",
       "      <th>manufacturer</th>\n",
       "      <th>make</th>\n",
       "      <th>condition</th>\n",
       "      <th>cylinders</th>\n",
       "      <th>fuel</th>\n",
       "      <th>odometer</th>\n",
       "      <th>title_status</th>\n",
       "      <th>transmission</th>\n",
       "      <th>drive</th>\n",
       "      <th>size</th>\n",
       "      <th>type</th>\n",
       "      <th>paint_color</th>\n",
       "      <th>state_name</th>\n",
       "      <th>weather</th>\n",
       "      <th>price</th>\n",
       "    </tr>\n",
       "  </thead>\n",
       "  <tbody>\n",
       "    <tr>\n",
       "      <td>0</td>\n",
       "      <td>559327</td>\n",
       "      <td>2006</td>\n",
       "      <td>unknown</td>\n",
       "      <td>Scion tc</td>\n",
       "      <td>excellent</td>\n",
       "      <td>4 cylinders</td>\n",
       "      <td>gas</td>\n",
       "      <td>190000.0</td>\n",
       "      <td>clean</td>\n",
       "      <td>automatic</td>\n",
       "      <td>NaN</td>\n",
       "      <td>NaN</td>\n",
       "      <td>NaN</td>\n",
       "      <td>blue</td>\n",
       "      <td>Maryland</td>\n",
       "      <td>56.0</td>\n",
       "      <td>3200</td>\n",
       "    </tr>\n",
       "    <tr>\n",
       "      <td>1</td>\n",
       "      <td>1429566</td>\n",
       "      <td>2018</td>\n",
       "      <td>dodge</td>\n",
       "      <td>charger sxt</td>\n",
       "      <td>NaN</td>\n",
       "      <td>NaN</td>\n",
       "      <td>gas</td>\n",
       "      <td>NaN</td>\n",
       "      <td>clean</td>\n",
       "      <td>automatic</td>\n",
       "      <td>NaN</td>\n",
       "      <td>NaN</td>\n",
       "      <td>NaN</td>\n",
       "      <td>NaN</td>\n",
       "      <td>Illinois</td>\n",
       "      <td>48.0</td>\n",
       "      <td>30620</td>\n",
       "    </tr>\n",
       "    <tr>\n",
       "      <td>2</td>\n",
       "      <td>931606</td>\n",
       "      <td>1997</td>\n",
       "      <td>ford</td>\n",
       "      <td>f 250 2 wheel dr pickup</td>\n",
       "      <td>fair</td>\n",
       "      <td>NaN</td>\n",
       "      <td>gas</td>\n",
       "      <td>NaN</td>\n",
       "      <td>clean</td>\n",
       "      <td>automatic</td>\n",
       "      <td>NaN</td>\n",
       "      <td>NaN</td>\n",
       "      <td>pickup</td>\n",
       "      <td>white</td>\n",
       "      <td>Michigan</td>\n",
       "      <td>45.0</td>\n",
       "      <td>1800</td>\n",
       "    </tr>\n",
       "    <tr>\n",
       "      <td>3</td>\n",
       "      <td>1265412</td>\n",
       "      <td>2003</td>\n",
       "      <td>ram</td>\n",
       "      <td>NaN</td>\n",
       "      <td>NaN</td>\n",
       "      <td>8 cylinders</td>\n",
       "      <td>gas</td>\n",
       "      <td>NaN</td>\n",
       "      <td>clean</td>\n",
       "      <td>automatic</td>\n",
       "      <td>NaN</td>\n",
       "      <td>NaN</td>\n",
       "      <td>NaN</td>\n",
       "      <td>NaN</td>\n",
       "      <td>Texas</td>\n",
       "      <td>67.0</td>\n",
       "      <td>4500</td>\n",
       "    </tr>\n",
       "    <tr>\n",
       "      <td>4</td>\n",
       "      <td>1133731</td>\n",
       "      <td>2000</td>\n",
       "      <td>dodge</td>\n",
       "      <td>1500</td>\n",
       "      <td>NaN</td>\n",
       "      <td>NaN</td>\n",
       "      <td>gas</td>\n",
       "      <td>NaN</td>\n",
       "      <td>clean</td>\n",
       "      <td>automatic</td>\n",
       "      <td>NaN</td>\n",
       "      <td>NaN</td>\n",
       "      <td>NaN</td>\n",
       "      <td>NaN</td>\n",
       "      <td>Florida</td>\n",
       "      <td>65.0</td>\n",
       "      <td>1400</td>\n",
       "    </tr>\n",
       "  </tbody>\n",
       "</table>\n",
       "</div>"
      ],
      "text/plain": [
       "        Id  year manufacturer                     make  condition  \\\n",
       "0   559327  2006      unknown                 Scion tc  excellent   \n",
       "1  1429566  2018        dodge              charger sxt        NaN   \n",
       "2   931606  1997         ford  f 250 2 wheel dr pickup       fair   \n",
       "3  1265412  2003          ram                      NaN        NaN   \n",
       "4  1133731  2000        dodge                     1500        NaN   \n",
       "\n",
       "     cylinders fuel  odometer title_status transmission drive size    type  \\\n",
       "0  4 cylinders  gas  190000.0        clean    automatic   NaN  NaN     NaN   \n",
       "1          NaN  gas       NaN        clean    automatic   NaN  NaN     NaN   \n",
       "2          NaN  gas       NaN        clean    automatic   NaN  NaN  pickup   \n",
       "3  8 cylinders  gas       NaN        clean    automatic   NaN  NaN     NaN   \n",
       "4          NaN  gas       NaN        clean    automatic   NaN  NaN     NaN   \n",
       "\n",
       "  paint_color state_name  weather  price  \n",
       "0        blue   Maryland     56.0   3200  \n",
       "1         NaN   Illinois     48.0  30620  \n",
       "2       white   Michigan     45.0   1800  \n",
       "3         NaN      Texas     67.0   4500  \n",
       "4         NaN    Florida     65.0   1400  "
      ]
     },
     "execution_count": 4,
     "metadata": {},
     "output_type": "execute_result"
    }
   ],
   "source": [
    "cars.head()"
   ]
  },
  {
   "cell_type": "code",
   "execution_count": 8,
   "metadata": {},
   "outputs": [],
   "source": [
    "cars=cars.drop(columns='make')#arriesgado, pero está muy sucia"
   ]
  },
  {
   "cell_type": "code",
   "execution_count": 9,
   "metadata": {},
   "outputs": [
    {
     "data": {
      "text/plain": [
       "Id                   0\n",
       "year                 0\n",
       "manufacturer         0\n",
       "condition       191021\n",
       "cylinders       188076\n",
       "fuel              2844\n",
       "odometer        153465\n",
       "title_status       708\n",
       "transmission      2447\n",
       "drive           180334\n",
       "size            306775\n",
       "type            191640\n",
       "paint_color     189613\n",
       "state_name           0\n",
       "weather          16182\n",
       "price                0\n",
       "dtype: int64"
      ]
     },
     "execution_count": 9,
     "metadata": {},
     "output_type": "execute_result"
    }
   ],
   "source": [
    "cars.isna().sum().compute()"
   ]
  },
  {
   "cell_type": "code",
   "execution_count": 11,
   "metadata": {},
   "outputs": [
    {
     "data": {
      "text/plain": [
       "Id                   0\n",
       "city                 0\n",
       "year               911\n",
       "manufacturer     20048\n",
       "make             10112\n",
       "condition       102695\n",
       "cylinders       101146\n",
       "fuel              1583\n",
       "odometer         83110\n",
       "title_status       373\n",
       "transmission      1350\n",
       "drive            96866\n",
       "size            164839\n",
       "type            103023\n",
       "paint_color     101787\n",
       "lat                  0\n",
       "long                 0\n",
       "county_fips       8632\n",
       "county_name       8632\n",
       "state_fips        8632\n",
       "state_code        8632\n",
       "state_name           0\n",
       "weather           8716\n",
       "dtype: int64"
      ]
     },
     "execution_count": 11,
     "metadata": {},
     "output_type": "execute_result"
    }
   ],
   "source": [
    "carsTest=dd.read_csv('./../input/cars_test.csv')\n",
    "carsTest.isna().sum().compute()"
   ]
  },
  {
   "cell_type": "code",
   "execution_count": 16,
   "metadata": {},
   "outputs": [
    {
     "data": {
      "text/plain": [
       "(147479, 16)"
      ]
     },
     "execution_count": 16,
     "metadata": {},
     "output_type": "execute_result"
    }
   ],
   "source": [
    "cars[cars.cylinders.isna()&cars.condition.isna()].compute().shape"
   ]
  },
  {
   "cell_type": "code",
   "execution_count": 32,
   "metadata": {},
   "outputs": [
    {
     "name": "stderr",
     "output_type": "stream",
     "text": [
      "/home/curro/Repos/clean-p/env/lib/python3.6/site-packages/dask/dataframe/core.py:2957: UserWarning: \n",
      "You did not provide metadata, so Dask is running your function on a small dataset to guess output types. It is possible that Dask will guess incorrectly.\n",
      "To provide an explicit output types or to silence this message, please provide the `meta=` keyword, as described in the map or apply function that you are using.\n",
      "  Before: .apply(func)\n",
      "  After:  .apply(func, meta=('state_name', 'object'))\n",
      "\n",
      "  warnings.warn(meta_warning(meta))\n",
      "/home/curro/Repos/clean-p/env/lib/python3.6/site-packages/dask/dataframe/core.py:2957: UserWarning: \n",
      "You did not provide metadata, so Dask is running your function on a small dataset to guess output types. It is possible that Dask will guess incorrectly.\n",
      "To provide an explicit output types or to silence this message, please provide the `meta=` keyword, as described in the map or apply function that you are using.\n",
      "  Before: .apply(func)\n",
      "  After:  .apply(func, meta=('manufacturer', 'object'))\n",
      "\n",
      "  warnings.warn(meta_warning(meta))\n",
      "/home/curro/Repos/clean-p/env/lib/python3.6/site-packages/dask/dataframe/core.py:3981: UserWarning: \n",
      "You did not provide metadata, so Dask is running your function on a small dataset to guess output types. It is possible that Dask will guess incorrectly.\n",
      "To provide an explicit output types or to silence this message, please provide the `meta=` keyword, as described in the map or apply function that you are using.\n",
      "  Before: .apply(func)\n",
      "  After:  .apply(func, meta={'Id': 'int64', 'year': 'object', 'manufacturer': 'object', 'make': 'object', 'condition': 'object', 'cylinders': 'object', 'fuel': 'object', 'odometer': 'float64', 'title_status': 'object', 'transmission': 'object', 'drive': 'object', 'size': 'object', 'type': 'object', 'paint_color': 'object', 'state_name': 'object', 'weather': 'float64', 'price': 'int64'})\n",
      "\n",
      "  warnings.warn(meta_warning(meta))\n"
     ]
    }
   ],
   "source": [
    "from preparingDf import cleanAllDf\n",
    "cars=cleanAllDf()"
   ]
  },
  {
   "cell_type": "code",
   "execution_count": 33,
   "metadata": {},
   "outputs": [
    {
     "data": {
      "text/html": [
       "<div>\n",
       "<style scoped>\n",
       "    .dataframe tbody tr th:only-of-type {\n",
       "        vertical-align: middle;\n",
       "    }\n",
       "\n",
       "    .dataframe tbody tr th {\n",
       "        vertical-align: top;\n",
       "    }\n",
       "\n",
       "    .dataframe thead th {\n",
       "        text-align: right;\n",
       "    }\n",
       "</style>\n",
       "<table border=\"1\" class=\"dataframe\">\n",
       "  <thead>\n",
       "    <tr style=\"text-align: right;\">\n",
       "      <th></th>\n",
       "      <th>Id</th>\n",
       "      <th>year</th>\n",
       "      <th>manufacturer</th>\n",
       "      <th>make</th>\n",
       "      <th>condition</th>\n",
       "      <th>cylinders</th>\n",
       "      <th>fuel</th>\n",
       "      <th>odometer</th>\n",
       "      <th>title_status</th>\n",
       "      <th>transmission</th>\n",
       "      <th>drive</th>\n",
       "      <th>size</th>\n",
       "      <th>type</th>\n",
       "      <th>paint_color</th>\n",
       "      <th>state_name</th>\n",
       "      <th>weather</th>\n",
       "      <th>price</th>\n",
       "    </tr>\n",
       "  </thead>\n",
       "  <tbody>\n",
       "    <tr>\n",
       "      <td>0</td>\n",
       "      <td>559327</td>\n",
       "      <td>2006</td>\n",
       "      <td>unknown</td>\n",
       "      <td>Scion tc</td>\n",
       "      <td>excellent</td>\n",
       "      <td>4 cylinders</td>\n",
       "      <td>gas</td>\n",
       "      <td>190000.0</td>\n",
       "      <td>clean</td>\n",
       "      <td>automatic</td>\n",
       "      <td>NaN</td>\n",
       "      <td>NaN</td>\n",
       "      <td>NaN</td>\n",
       "      <td>blue</td>\n",
       "      <td>Maryland</td>\n",
       "      <td>56.0</td>\n",
       "      <td>3200</td>\n",
       "    </tr>\n",
       "    <tr>\n",
       "      <td>1</td>\n",
       "      <td>1429566</td>\n",
       "      <td>2018</td>\n",
       "      <td>dodge</td>\n",
       "      <td>charger sxt</td>\n",
       "      <td>NaN</td>\n",
       "      <td>NaN</td>\n",
       "      <td>gas</td>\n",
       "      <td>NaN</td>\n",
       "      <td>clean</td>\n",
       "      <td>automatic</td>\n",
       "      <td>NaN</td>\n",
       "      <td>NaN</td>\n",
       "      <td>NaN</td>\n",
       "      <td>NaN</td>\n",
       "      <td>Illinois</td>\n",
       "      <td>48.0</td>\n",
       "      <td>30620</td>\n",
       "    </tr>\n",
       "    <tr>\n",
       "      <td>2</td>\n",
       "      <td>931606</td>\n",
       "      <td>1997</td>\n",
       "      <td>ford</td>\n",
       "      <td>f 250 2 wheel dr pickup</td>\n",
       "      <td>fair</td>\n",
       "      <td>NaN</td>\n",
       "      <td>gas</td>\n",
       "      <td>NaN</td>\n",
       "      <td>clean</td>\n",
       "      <td>automatic</td>\n",
       "      <td>NaN</td>\n",
       "      <td>NaN</td>\n",
       "      <td>pickup</td>\n",
       "      <td>white</td>\n",
       "      <td>Michigan</td>\n",
       "      <td>45.0</td>\n",
       "      <td>1800</td>\n",
       "    </tr>\n",
       "    <tr>\n",
       "      <td>3</td>\n",
       "      <td>1265412</td>\n",
       "      <td>2003</td>\n",
       "      <td>ram</td>\n",
       "      <td>NaN</td>\n",
       "      <td>NaN</td>\n",
       "      <td>8 cylinders</td>\n",
       "      <td>gas</td>\n",
       "      <td>NaN</td>\n",
       "      <td>clean</td>\n",
       "      <td>automatic</td>\n",
       "      <td>NaN</td>\n",
       "      <td>NaN</td>\n",
       "      <td>NaN</td>\n",
       "      <td>NaN</td>\n",
       "      <td>Texas</td>\n",
       "      <td>67.0</td>\n",
       "      <td>4500</td>\n",
       "    </tr>\n",
       "    <tr>\n",
       "      <td>4</td>\n",
       "      <td>1133731</td>\n",
       "      <td>2000</td>\n",
       "      <td>dodge</td>\n",
       "      <td>1500</td>\n",
       "      <td>NaN</td>\n",
       "      <td>NaN</td>\n",
       "      <td>gas</td>\n",
       "      <td>NaN</td>\n",
       "      <td>clean</td>\n",
       "      <td>automatic</td>\n",
       "      <td>NaN</td>\n",
       "      <td>NaN</td>\n",
       "      <td>NaN</td>\n",
       "      <td>NaN</td>\n",
       "      <td>Florida</td>\n",
       "      <td>65.0</td>\n",
       "      <td>1400</td>\n",
       "    </tr>\n",
       "  </tbody>\n",
       "</table>\n",
       "</div>"
      ],
      "text/plain": [
       "        Id  year manufacturer                     make  condition  \\\n",
       "0   559327  2006      unknown                 Scion tc  excellent   \n",
       "1  1429566  2018        dodge              charger sxt        NaN   \n",
       "2   931606  1997         ford  f 250 2 wheel dr pickup       fair   \n",
       "3  1265412  2003          ram                      NaN        NaN   \n",
       "4  1133731  2000        dodge                     1500        NaN   \n",
       "\n",
       "     cylinders fuel  odometer title_status transmission drive size    type  \\\n",
       "0  4 cylinders  gas  190000.0        clean    automatic   NaN  NaN     NaN   \n",
       "1          NaN  gas       NaN        clean    automatic   NaN  NaN     NaN   \n",
       "2          NaN  gas       NaN        clean    automatic   NaN  NaN  pickup   \n",
       "3  8 cylinders  gas       NaN        clean    automatic   NaN  NaN     NaN   \n",
       "4          NaN  gas       NaN        clean    automatic   NaN  NaN     NaN   \n",
       "\n",
       "  paint_color state_name  weather  price  \n",
       "0        blue   Maryland     56.0   3200  \n",
       "1         NaN   Illinois     48.0  30620  \n",
       "2       white   Michigan     45.0   1800  \n",
       "3         NaN      Texas     67.0   4500  \n",
       "4         NaN    Florida     65.0   1400  "
      ]
     },
     "execution_count": 33,
     "metadata": {},
     "output_type": "execute_result"
    }
   ],
   "source": [
    "cars.head()"
   ]
  },
  {
   "cell_type": "code",
   "execution_count": 34,
   "metadata": {},
   "outputs": [],
   "source": [
    "cars.condition=cars.condition.fillna('unknown')"
   ]
  },
  {
   "cell_type": "code",
   "execution_count": 36,
   "metadata": {},
   "outputs": [
    {
     "data": {
      "text/plain": [
       "unknown      191021\n",
       "excellent    120909\n",
       "good         103297\n",
       "like new      30469\n",
       "fair          20214\n",
       "new            2437\n",
       "salvage        1645\n",
       "Name: condition, dtype: int64"
      ]
     },
     "execution_count": 36,
     "metadata": {},
     "output_type": "execute_result"
    }
   ],
   "source": [
    "cars.condition.value_counts().compute()"
   ]
  },
  {
   "cell_type": "code",
   "execution_count": 37,
   "metadata": {},
   "outputs": [],
   "source": [
    "def cleanCondition(condition):\n",
    "    if condition in ['like new','fair']:\n",
    "        return 'excellent'\n",
    "    elif condition in ['salvage']:\n",
    "        return 'unknown'\n",
    "    return condition"
   ]
  },
  {
   "cell_type": "code",
   "execution_count": 38,
   "metadata": {},
   "outputs": [
    {
     "name": "stderr",
     "output_type": "stream",
     "text": [
      "/home/curro/Repos/clean-p/env/lib/python3.6/site-packages/dask/dataframe/core.py:2957: UserWarning: \n",
      "You did not provide metadata, so Dask is running your function on a small dataset to guess output types. It is possible that Dask will guess incorrectly.\n",
      "To provide an explicit output types or to silence this message, please provide the `meta=` keyword, as described in the map or apply function that you are using.\n",
      "  Before: .apply(func)\n",
      "  After:  .apply(func, meta=('condition', 'object'))\n",
      "\n",
      "  warnings.warn(meta_warning(meta))\n"
     ]
    }
   ],
   "source": [
    "cars.condition=cars.condition.apply(cleanCondition)"
   ]
  },
  {
   "cell_type": "code",
   "execution_count": 40,
   "metadata": {},
   "outputs": [
    {
     "data": {
      "text/plain": [
       "0    192666\n",
       "1    171592\n",
       "2    103297\n",
       "3      2437\n",
       "Name: condition, dtype: int64"
      ]
     },
     "execution_count": 40,
     "metadata": {},
     "output_type": "execute_result"
    }
   ],
   "source": [
    "cars.condition.value_counts().unique().compute()"
   ]
  },
  {
   "cell_type": "code",
   "execution_count": 41,
   "metadata": {},
   "outputs": [],
   "source": [
    "cars= cars.compute()"
   ]
  },
  {
   "cell_type": "code",
   "execution_count": 43,
   "metadata": {},
   "outputs": [],
   "source": [
    "cars.to_csv('../output/partialClean.csv')"
   ]
  },
  {
   "cell_type": "code",
   "execution_count": null,
   "metadata": {},
   "outputs": [],
   "source": []
  },
  {
   "cell_type": "code",
   "execution_count": 1,
   "metadata": {},
   "outputs": [
    {
     "data": {
      "text/html": [
       "<table style=\"border: 2px solid white;\">\n",
       "<tr>\n",
       "<td style=\"vertical-align: top; border: 0px solid white\">\n",
       "<h3 style=\"text-align: left;\">Client</h3>\n",
       "<ul style=\"text-align: left; list-style: none; margin: 0; padding: 0;\">\n",
       "  <li><b>Scheduler: </b>tcp://127.0.0.1:36373</li>\n",
       "  <li><b>Dashboard: </b><a href='http://127.0.0.1:8787/status' target='_blank'>http://127.0.0.1:8787/status</a>\n",
       "</ul>\n",
       "</td>\n",
       "<td style=\"vertical-align: top; border: 0px solid white\">\n",
       "<h3 style=\"text-align: left;\">Cluster</h3>\n",
       "<ul style=\"text-align: left; list-style:none; margin: 0; padding: 0;\">\n",
       "  <li><b>Workers: </b>4</li>\n",
       "  <li><b>Cores: </b>16</li>\n",
       "  <li><b>Memory: </b>16.83 GB</li>\n",
       "</ul>\n",
       "</td>\n",
       "</tr>\n",
       "</table>"
      ],
      "text/plain": [
       "<Client: 'tcp://127.0.0.1:36373' processes=4 threads=16, memory=16.83 GB>"
      ]
     },
     "execution_count": 1,
     "metadata": {},
     "output_type": "execute_result"
    }
   ],
   "source": [
    "import dask\n",
    "import dask.dataframe as dd\n",
    "from dask.distributed import Client, LocalCluster\n",
    "cluster = LocalCluster() \n",
    "client = Client(cluster)\n",
    "client"
   ]
  },
  {
   "cell_type": "code",
   "execution_count": 2,
   "metadata": {},
   "outputs": [],
   "source": [
    "cars=dd.read_csv('../output/partialClean.csv')"
   ]
  },
  {
   "cell_type": "code",
   "execution_count": 3,
   "metadata": {},
   "outputs": [],
   "source": [
    "cars=cars.drop(columns=['Id','Unnamed: 0']).compute()"
   ]
  },
  {
   "cell_type": "code",
   "execution_count": 4,
   "metadata": {},
   "outputs": [
    {
     "data": {
      "text/plain": [
       "Index(['year', 'manufacturer', 'make', 'condition', 'cylinders', 'fuel',\n",
       "       'odometer', 'title_status', 'transmission', 'drive', 'size', 'type',\n",
       "       'paint_color', 'state_name', 'weather', 'price'],\n",
       "      dtype='object')"
      ]
     },
     "execution_count": 4,
     "metadata": {},
     "output_type": "execute_result"
    }
   ],
   "source": [
    "cars.columns"
   ]
  },
  {
   "cell_type": "code",
   "execution_count": 5,
   "metadata": {},
   "outputs": [
    {
     "data": {
      "text/plain": [
       "6 cylinders     98757\n",
       "8 cylinders     87552\n",
       "4 cylinders     80625\n",
       "other            9751\n",
       "5 cylinders      2864\n",
       "10 cylinders     1623\n",
       "3 cylinders       500\n",
       "12 cylinders      244\n",
       "Name: cylinders, dtype: int64"
      ]
     },
     "execution_count": 5,
     "metadata": {},
     "output_type": "execute_result"
    }
   ],
   "source": [
    "cars.cylinders.value_counts()"
   ]
  },
  {
   "cell_type": "code",
   "execution_count": 6,
   "metadata": {},
   "outputs": [],
   "source": [
    "cars.cylinders=cars.cylinders.fillna('other')"
   ]
  },
  {
   "cell_type": "code",
   "execution_count": 7,
   "metadata": {},
   "outputs": [
    {
     "data": {
      "text/plain": [
       "0"
      ]
     },
     "execution_count": 7,
     "metadata": {},
     "output_type": "execute_result"
    }
   ],
   "source": [
    "cars.cylinders.isna().sum()"
   ]
  },
  {
   "cell_type": "code",
   "execution_count": 8,
   "metadata": {},
   "outputs": [
    {
     "data": {
      "text/plain": [
       "2844"
      ]
     },
     "execution_count": 8,
     "metadata": {},
     "output_type": "execute_result"
    }
   ],
   "source": [
    "cars.fuel.isna().sum()"
   ]
  },
  {
   "cell_type": "code",
   "execution_count": 9,
   "metadata": {},
   "outputs": [
    {
     "data": {
      "text/plain": [
       "gas         417897\n",
       "diesel       33158\n",
       "other        12466\n",
       "hybrid        2949\n",
       "electric       678\n",
       "Name: fuel, dtype: int64"
      ]
     },
     "execution_count": 9,
     "metadata": {},
     "output_type": "execute_result"
    }
   ],
   "source": [
    "cars.fuel.value_counts()"
   ]
  },
  {
   "cell_type": "code",
   "execution_count": 10,
   "metadata": {},
   "outputs": [
    {
     "data": {
      "text/plain": [
       "0"
      ]
     },
     "execution_count": 10,
     "metadata": {},
     "output_type": "execute_result"
    }
   ],
   "source": [
    "cars.fuel=cars.fuel.fillna('other')\n",
    "cars.fuel.isna().sum()"
   ]
  },
  {
   "cell_type": "code",
   "execution_count": 11,
   "metadata": {},
   "outputs": [
    {
     "data": {
      "text/plain": [
       "153465"
      ]
     },
     "execution_count": 11,
     "metadata": {},
     "output_type": "execute_result"
    }
   ],
   "source": [
    "cars.odometer.isna().sum()"
   ]
  },
  {
   "cell_type": "code",
   "execution_count": null,
   "metadata": {},
   "outputs": [],
   "source": []
  },
  {
   "cell_type": "code",
   "execution_count": 12,
   "metadata": {},
   "outputs": [
    {
     "data": {
      "text/plain": [
       "count    3.165270e+05\n",
       "mean     1.135850e+05\n",
       "std      1.400817e+05\n",
       "min      0.000000e+00\n",
       "25%      5.800000e+04\n",
       "50%      1.067000e+05\n",
       "75%      1.520000e+05\n",
       "max      1.000000e+07\n",
       "Name: odometer, dtype: float64"
      ]
     },
     "execution_count": 12,
     "metadata": {},
     "output_type": "execute_result"
    }
   ],
   "source": [
    "cars.odometer.describe()"
   ]
  },
  {
   "cell_type": "code",
   "execution_count": 13,
   "metadata": {},
   "outputs": [
    {
     "name": "stdout",
     "output_type": "stream",
     "text": [
      "0 0\n"
     ]
    }
   ],
   "source": [
    "cars.odometer=cars.odometer.fillna(0.01)\n",
    "print(cars.odometer.isna().sum(),cars.odometer.isnull().sum())"
   ]
  },
  {
   "cell_type": "code",
   "execution_count": 14,
   "metadata": {},
   "outputs": [],
   "source": [
    "def cleanOdometer(odo):\n",
    "    if odo == 0.01:\n",
    "        return 'unknown'\n",
    "    elif odo == 0.0:\n",
    "        return '0'\n",
    "    elif 0<odo<10000:\n",
    "        return '<10000'\n",
    "    elif 10000<odo<30000:\n",
    "        return '10000<30000'\n",
    "    elif 30000<odo<60000:\n",
    "        return '30000<60000'\n",
    "    elif 60000<odo<90000:\n",
    "        return '60000<90000'\n",
    "    elif 90000<odo<120000:\n",
    "        return '90000<120000'\n",
    "    elif 120000<odo<150000:\n",
    "        return '120000<150000'\n",
    "    elif 150000<odo<180000:\n",
    "        return '150000<180000'\n",
    "    elif 180000<odo<210000:\n",
    "        return '180000<210000'\n",
    "    elif odo>210000:\n",
    "        return '>210000'"
   ]
  },
  {
   "cell_type": "code",
   "execution_count": 15,
   "metadata": {},
   "outputs": [],
   "source": [
    "cars.odometer= cars.odometer.apply(cleanOdometer)"
   ]
  },
  {
   "cell_type": "code",
   "execution_count": 16,
   "metadata": {},
   "outputs": [
    {
     "data": {
      "text/plain": [
       "unknown          153465\n",
       "90000<120000      53586\n",
       "120000<150000     50393\n",
       "60000<90000       44465\n",
       "30000<60000       41865\n",
       "150000<180000     37286\n",
       "10000<30000       22093\n",
       "180000<210000     21745\n",
       ">210000           20885\n",
       "<10000            15773\n",
       "0                  1456\n",
       "Name: odometer, dtype: int64"
      ]
     },
     "execution_count": 16,
     "metadata": {},
     "output_type": "execute_result"
    }
   ],
   "source": [
    "cars.odometer.value_counts()"
   ]
  },
  {
   "cell_type": "code",
   "execution_count": 17,
   "metadata": {},
   "outputs": [
    {
     "data": {
      "text/plain": [
       "6980"
      ]
     },
     "execution_count": 17,
     "metadata": {},
     "output_type": "execute_result"
    }
   ],
   "source": [
    "cars.odometer.isna().sum()"
   ]
  },
  {
   "cell_type": "code",
   "execution_count": 18,
   "metadata": {},
   "outputs": [
    {
     "data": {
      "text/plain": [
       "0"
      ]
     },
     "execution_count": 18,
     "metadata": {},
     "output_type": "execute_result"
    }
   ],
   "source": [
    "cars.odometer=cars.odometer.fillna('unknown')\n",
    "cars.odometer.isna().sum()"
   ]
  },
  {
   "cell_type": "code",
   "execution_count": 19,
   "metadata": {},
   "outputs": [
    {
     "data": {
      "text/plain": [
       "unknown          160445\n",
       "90000<120000      53586\n",
       "120000<150000     50393\n",
       "60000<90000       44465\n",
       "30000<60000       41865\n",
       "150000<180000     37286\n",
       "10000<30000       22093\n",
       "180000<210000     21745\n",
       ">210000           20885\n",
       "<10000            15773\n",
       "0                  1456\n",
       "Name: odometer, dtype: int64"
      ]
     },
     "execution_count": 19,
     "metadata": {},
     "output_type": "execute_result"
    }
   ],
   "source": [
    "cars.odometer.value_counts()"
   ]
  },
  {
   "cell_type": "code",
   "execution_count": 20,
   "metadata": {},
   "outputs": [
    {
     "data": {
      "text/plain": [
       "year              int64\n",
       "manufacturer     object\n",
       "make             object\n",
       "condition        object\n",
       "cylinders        object\n",
       "fuel             object\n",
       "odometer         object\n",
       "title_status     object\n",
       "transmission     object\n",
       "drive            object\n",
       "size             object\n",
       "type             object\n",
       "paint_color      object\n",
       "state_name       object\n",
       "weather         float64\n",
       "price             int64\n",
       "dtype: object"
      ]
     },
     "execution_count": 20,
     "metadata": {},
     "output_type": "execute_result"
    }
   ],
   "source": [
    "cars.dtypes"
   ]
  },
  {
   "cell_type": "code",
   "execution_count": 21,
   "metadata": {},
   "outputs": [
    {
     "data": {
      "text/plain": [
       "clean         436606\n",
       "rebuilt        13310\n",
       "salvage         8923\n",
       "lien            5950\n",
       "missing         3046\n",
       "parts only      1449\n",
       "Name: title_status, dtype: int64"
      ]
     },
     "metadata": {},
     "output_type": "display_data"
    },
    {
     "data": {
      "text/plain": [
       "708"
      ]
     },
     "metadata": {},
     "output_type": "display_data"
    }
   ],
   "source": [
    "display(cars.title_status.value_counts(),cars.title_status.isna().sum())"
   ]
  },
  {
   "cell_type": "code",
   "execution_count": 22,
   "metadata": {},
   "outputs": [
    {
     "data": {
      "text/plain": [
       "clean         436606\n",
       "rebuilt        13310\n",
       "salvage         8923\n",
       "lien            5950\n",
       "missing         3754\n",
       "parts only      1449\n",
       "Name: title_status, dtype: int64"
      ]
     },
     "metadata": {},
     "output_type": "display_data"
    },
    {
     "data": {
      "text/plain": [
       "0"
      ]
     },
     "metadata": {},
     "output_type": "display_data"
    }
   ],
   "source": [
    "cars.title_status=cars.title_status.fillna('missing')\n",
    "display(cars.title_status.value_counts(),cars.title_status.isna().sum())"
   ]
  },
  {
   "cell_type": "markdown",
   "metadata": {},
   "source": [
    "## transmission"
   ]
  },
  {
   "cell_type": "code",
   "execution_count": 23,
   "metadata": {},
   "outputs": [
    {
     "data": {
      "text/plain": [
       "automatic    402378\n",
       "manual        55363\n",
       "other          9804\n",
       "Name: transmission, dtype: int64"
      ]
     },
     "metadata": {},
     "output_type": "display_data"
    },
    {
     "data": {
      "text/plain": [
       "2447"
      ]
     },
     "metadata": {},
     "output_type": "display_data"
    }
   ],
   "source": [
    "display(cars.transmission.value_counts(),cars.transmission.isna().sum())"
   ]
  },
  {
   "cell_type": "code",
   "execution_count": 24,
   "metadata": {},
   "outputs": [
    {
     "data": {
      "text/plain": [
       "automatic    402378\n",
       "manual        55363\n",
       "other         12251\n",
       "Name: transmission, dtype: int64"
      ]
     },
     "metadata": {},
     "output_type": "display_data"
    },
    {
     "data": {
      "text/plain": [
       "0"
      ]
     },
     "metadata": {},
     "output_type": "display_data"
    }
   ],
   "source": [
    "cars.transmission=cars.transmission.fillna('other')\n",
    "display(cars.transmission.value_counts(),cars.transmission.isna().sum())"
   ]
  },
  {
   "cell_type": "markdown",
   "metadata": {},
   "source": [
    "# drive"
   ]
  },
  {
   "cell_type": "code",
   "execution_count": 25,
   "metadata": {},
   "outputs": [
    {
     "data": {
      "text/plain": [
       "4wd    121087\n",
       "fwd    101308\n",
       "rwd     67263\n",
       "Name: drive, dtype: int64"
      ]
     },
     "metadata": {},
     "output_type": "display_data"
    },
    {
     "data": {
      "text/plain": [
       "180334"
      ]
     },
     "metadata": {},
     "output_type": "display_data"
    }
   ],
   "source": [
    "display(cars.drive.value_counts(),cars.drive.isna().sum())"
   ]
  },
  {
   "cell_type": "code",
   "execution_count": 26,
   "metadata": {},
   "outputs": [
    {
     "data": {
      "text/plain": [
       "unknown    180334\n",
       "4wd        121087\n",
       "fwd        101308\n",
       "rwd         67263\n",
       "Name: drive, dtype: int64"
      ]
     },
     "metadata": {},
     "output_type": "display_data"
    },
    {
     "data": {
      "text/plain": [
       "0"
      ]
     },
     "metadata": {},
     "output_type": "display_data"
    }
   ],
   "source": [
    "cars.drive=cars.drive.fillna('unknown')\n",
    "display(cars.drive.value_counts(),cars.drive.isna().sum())"
   ]
  },
  {
   "cell_type": "markdown",
   "metadata": {},
   "source": [
    "# type"
   ]
  },
  {
   "cell_type": "code",
   "execution_count": 27,
   "metadata": {},
   "outputs": [
    {
     "data": {
      "text/plain": [
       "sedan          73953\n",
       "SUV            66612\n",
       "truck          36510\n",
       "pickup         33645\n",
       "coupe          19896\n",
       "hatchback      10441\n",
       "convertible     8555\n",
       "wagon           6953\n",
       "van             6923\n",
       "mini-van        6717\n",
       "other           6196\n",
       "offroad         1386\n",
       "bus              565\n",
       "Name: type, dtype: int64"
      ]
     },
     "metadata": {},
     "output_type": "display_data"
    },
    {
     "data": {
      "text/plain": [
       "191640"
      ]
     },
     "metadata": {},
     "output_type": "display_data"
    }
   ],
   "source": [
    "display(cars.type.value_counts(),cars.type.isna().sum())"
   ]
  },
  {
   "cell_type": "code",
   "execution_count": 28,
   "metadata": {},
   "outputs": [
    {
     "data": {
      "text/plain": [
       "unknown        191640\n",
       "sedan           73953\n",
       "SUV             66612\n",
       "truck           36510\n",
       "pickup          33645\n",
       "coupe           19896\n",
       "hatchback       10441\n",
       "convertible      8555\n",
       "wagon            6953\n",
       "van              6923\n",
       "mini-van         6717\n",
       "other            6196\n",
       "offroad          1386\n",
       "bus               565\n",
       "Name: type, dtype: int64"
      ]
     },
     "metadata": {},
     "output_type": "display_data"
    },
    {
     "data": {
      "text/plain": [
       "0"
      ]
     },
     "metadata": {},
     "output_type": "display_data"
    }
   ],
   "source": [
    "cars.type=cars.type.fillna('unknown')\n",
    "display(cars.type.value_counts(),cars.type.isna().sum())"
   ]
  },
  {
   "cell_type": "markdown",
   "metadata": {},
   "source": [
    "# size"
   ]
  },
  {
   "cell_type": "code",
   "execution_count": 37,
   "metadata": {},
   "outputs": [],
   "source": [
    "cars=cars.drop(columns='size')\n"
   ]
  },
  {
   "cell_type": "markdown",
   "metadata": {},
   "source": [
    "### paint_color\n"
   ]
  },
  {
   "cell_type": "code",
   "execution_count": 38,
   "metadata": {},
   "outputs": [
    {
     "data": {
      "text/plain": [
       "white     62659\n",
       "black     54608\n",
       "silver    40497\n",
       "blue      31686\n",
       "red       31290\n",
       "grey      27270\n",
       "green     11810\n",
       "brown      7307\n",
       "custom     7151\n",
       "yellow     3038\n",
       "orange     1984\n",
       "purple     1079\n",
       "Name: paint_color, dtype: int64"
      ]
     },
     "metadata": {},
     "output_type": "display_data"
    },
    {
     "data": {
      "text/plain": [
       "189613"
      ]
     },
     "metadata": {},
     "output_type": "display_data"
    }
   ],
   "source": [
    "display(cars.paint_color.value_counts(),cars.paint_color.isna().sum())"
   ]
  },
  {
   "cell_type": "code",
   "execution_count": 39,
   "metadata": {},
   "outputs": [
    {
     "data": {
      "text/plain": [
       "year              int64\n",
       "manufacturer     object\n",
       "make             object\n",
       "condition        object\n",
       "cylinders        object\n",
       "fuel             object\n",
       "odometer         object\n",
       "title_status     object\n",
       "transmission     object\n",
       "drive            object\n",
       "type             object\n",
       "state_name       object\n",
       "weather         float64\n",
       "price             int64\n",
       "dtype: object"
      ]
     },
     "execution_count": 39,
     "metadata": {},
     "output_type": "execute_result"
    }
   ],
   "source": [
    "cars=cars.drop(columns='paint_color')\n",
    "cars.dtypes"
   ]
  },
  {
   "cell_type": "code",
   "execution_count": 40,
   "metadata": {},
   "outputs": [
    {
     "data": {
      "text/plain": [
       "16182"
      ]
     },
     "execution_count": 40,
     "metadata": {},
     "output_type": "execute_result"
    }
   ],
   "source": [
    "cars.weather.isna().sum()"
   ]
  },
  {
   "cell_type": "code",
   "execution_count": 41,
   "metadata": {},
   "outputs": [
    {
     "data": {
      "text/plain": [
       "count    453810.000000\n",
       "mean         53.787792\n",
       "std           7.803067\n",
       "min          29.000000\n",
       "25%          48.000000\n",
       "50%          53.000000\n",
       "75%          59.000000\n",
       "max          79.000000\n",
       "Name: weather, dtype: float64"
      ]
     },
     "execution_count": 41,
     "metadata": {},
     "output_type": "execute_result"
    }
   ],
   "source": [
    "cars.weather.describe()"
   ]
  },
  {
   "cell_type": "code",
   "execution_count": 45,
   "metadata": {},
   "outputs": [
    {
     "data": {
      "text/plain": [
       "1.5"
      ]
     },
     "execution_count": 45,
     "metadata": {},
     "output_type": "execute_result"
    }
   ],
   "source": [
    "round(1.52,1)"
   ]
  },
  {
   "cell_type": "code",
   "execution_count": 46,
   "metadata": {},
   "outputs": [],
   "source": [
    "def cleanWeather(weather):\n",
    "    try:\n",
    "        return str(int(round(weather,1)))\n",
    "    except:\n",
    "        return 'unknown'"
   ]
  },
  {
   "cell_type": "code",
   "execution_count": 47,
   "metadata": {},
   "outputs": [
    {
     "data": {
      "text/plain": [
       "0"
      ]
     },
     "execution_count": 47,
     "metadata": {},
     "output_type": "execute_result"
    }
   ],
   "source": [
    "cars.weather=cars.weather.apply(cleanWeather)\n",
    "cars.weather.isna().sum()"
   ]
  },
  {
   "cell_type": "code",
   "execution_count": 48,
   "metadata": {},
   "outputs": [
    {
     "data": {
      "text/plain": [
       "59.0    68168\n",
       "45.0    50933\n",
       "50.0    42893\n",
       "53.0    35266\n",
       "67.0    31981\n",
       "65.0    30363\n",
       "56.0    23422\n",
       "52.0    21011\n",
       "49.0    18795\n",
       "48.0    18630\n",
       "nan     16182\n",
       "47.0    13362\n",
       "43.0    13320\n",
       "55.0    12630\n",
       "61.0    12046\n",
       "51.0    11743\n",
       "46.0     9039\n",
       "60.0     7744\n",
       "71.0     7644\n",
       "57.0     6366\n",
       "40.0     5446\n",
       "38.0     3724\n",
       "44.0     3611\n",
       "29.0     3336\n",
       "54.0     1534\n",
       "41.0      798\n",
       "79.0        5\n",
       "Name: weather, dtype: int64"
      ]
     },
     "metadata": {},
     "output_type": "display_data"
    },
    {
     "data": {
      "text/plain": [
       "0"
      ]
     },
     "metadata": {},
     "output_type": "display_data"
    }
   ],
   "source": [
    "display(cars.weather.value_counts(),cars.weather.isna().sum())"
   ]
  },
  {
   "cell_type": "code",
   "execution_count": 49,
   "metadata": {},
   "outputs": [
    {
     "data": {
      "text/plain": [
       "59.0    68168\n",
       "45.0    50933\n",
       "50.0    42893\n",
       "53.0    35266\n",
       "67.0    31981\n",
       "65.0    30363\n",
       "56.0    23422\n",
       "52.0    21011\n",
       "49.0    18795\n",
       "48.0    18630\n",
       "nan     16182\n",
       "47.0    13362\n",
       "43.0    13320\n",
       "55.0    12630\n",
       "61.0    12046\n",
       "51.0    11743\n",
       "46.0     9039\n",
       "60.0     7744\n",
       "71.0     7644\n",
       "57.0     6366\n",
       "40.0     5446\n",
       "38.0     3724\n",
       "44.0     3611\n",
       "29.0     3336\n",
       "54.0     1534\n",
       "41.0      798\n",
       "79.0        5\n",
       "Name: weather, dtype: int64"
      ]
     },
     "metadata": {},
     "output_type": "display_data"
    },
    {
     "data": {
      "text/plain": [
       "0"
      ]
     },
     "metadata": {},
     "output_type": "display_data"
    }
   ],
   "source": [
    "cars.weather=cars.weather.fillna('unknown')\n",
    "display(cars.weather.value_counts(),cars.weather.isna().sum())"
   ]
  },
  {
   "cell_type": "code",
   "execution_count": 50,
   "metadata": {},
   "outputs": [],
   "source": [
    "cars.to_csv('../output/partialCleanOnlyM.csv')"
   ]
  },
  {
   "cell_type": "code",
   "execution_count": 51,
   "metadata": {},
   "outputs": [],
   "source": [
    "cars=dd.read_csv('../output/partialCleanOnlyM.csv')"
   ]
  },
  {
   "cell_type": "code",
   "execution_count": 52,
   "metadata": {},
   "outputs": [
    {
     "data": {
      "text/html": [
       "<div>\n",
       "<style scoped>\n",
       "    .dataframe tbody tr th:only-of-type {\n",
       "        vertical-align: middle;\n",
       "    }\n",
       "\n",
       "    .dataframe tbody tr th {\n",
       "        vertical-align: top;\n",
       "    }\n",
       "\n",
       "    .dataframe thead th {\n",
       "        text-align: right;\n",
       "    }\n",
       "</style>\n",
       "<table border=\"1\" class=\"dataframe\">\n",
       "  <thead>\n",
       "    <tr style=\"text-align: right;\">\n",
       "      <th></th>\n",
       "      <th>Unnamed: 0</th>\n",
       "      <th>year</th>\n",
       "      <th>manufacturer</th>\n",
       "      <th>make</th>\n",
       "      <th>condition</th>\n",
       "      <th>cylinders</th>\n",
       "      <th>fuel</th>\n",
       "      <th>odometer</th>\n",
       "      <th>title_status</th>\n",
       "      <th>transmission</th>\n",
       "      <th>drive</th>\n",
       "      <th>type</th>\n",
       "      <th>state_name</th>\n",
       "      <th>weather</th>\n",
       "      <th>price</th>\n",
       "    </tr>\n",
       "  </thead>\n",
       "  <tbody>\n",
       "    <tr>\n",
       "      <td>0</td>\n",
       "      <td>0</td>\n",
       "      <td>2006</td>\n",
       "      <td>unknown</td>\n",
       "      <td>Scion tc</td>\n",
       "      <td>excellent</td>\n",
       "      <td>4 cylinders</td>\n",
       "      <td>gas</td>\n",
       "      <td>180000&lt;210000</td>\n",
       "      <td>clean</td>\n",
       "      <td>automatic</td>\n",
       "      <td>unknown</td>\n",
       "      <td>unknown</td>\n",
       "      <td>Maryland</td>\n",
       "      <td>56.0</td>\n",
       "      <td>3200</td>\n",
       "    </tr>\n",
       "    <tr>\n",
       "      <td>1</td>\n",
       "      <td>1</td>\n",
       "      <td>2018</td>\n",
       "      <td>dodge</td>\n",
       "      <td>charger sxt</td>\n",
       "      <td>unknown</td>\n",
       "      <td>other</td>\n",
       "      <td>gas</td>\n",
       "      <td>unknown</td>\n",
       "      <td>clean</td>\n",
       "      <td>automatic</td>\n",
       "      <td>unknown</td>\n",
       "      <td>unknown</td>\n",
       "      <td>Illinois</td>\n",
       "      <td>48.0</td>\n",
       "      <td>30620</td>\n",
       "    </tr>\n",
       "    <tr>\n",
       "      <td>2</td>\n",
       "      <td>2</td>\n",
       "      <td>1997</td>\n",
       "      <td>ford</td>\n",
       "      <td>f 250 2 wheel dr pickup</td>\n",
       "      <td>excellent</td>\n",
       "      <td>other</td>\n",
       "      <td>gas</td>\n",
       "      <td>unknown</td>\n",
       "      <td>clean</td>\n",
       "      <td>automatic</td>\n",
       "      <td>unknown</td>\n",
       "      <td>pickup</td>\n",
       "      <td>Michigan</td>\n",
       "      <td>45.0</td>\n",
       "      <td>1800</td>\n",
       "    </tr>\n",
       "    <tr>\n",
       "      <td>3</td>\n",
       "      <td>3</td>\n",
       "      <td>2003</td>\n",
       "      <td>ram</td>\n",
       "      <td>NaN</td>\n",
       "      <td>unknown</td>\n",
       "      <td>8 cylinders</td>\n",
       "      <td>gas</td>\n",
       "      <td>unknown</td>\n",
       "      <td>clean</td>\n",
       "      <td>automatic</td>\n",
       "      <td>unknown</td>\n",
       "      <td>unknown</td>\n",
       "      <td>Texas</td>\n",
       "      <td>67.0</td>\n",
       "      <td>4500</td>\n",
       "    </tr>\n",
       "    <tr>\n",
       "      <td>4</td>\n",
       "      <td>4</td>\n",
       "      <td>2000</td>\n",
       "      <td>dodge</td>\n",
       "      <td>1500</td>\n",
       "      <td>unknown</td>\n",
       "      <td>other</td>\n",
       "      <td>gas</td>\n",
       "      <td>unknown</td>\n",
       "      <td>clean</td>\n",
       "      <td>automatic</td>\n",
       "      <td>unknown</td>\n",
       "      <td>unknown</td>\n",
       "      <td>Florida</td>\n",
       "      <td>65.0</td>\n",
       "      <td>1400</td>\n",
       "    </tr>\n",
       "  </tbody>\n",
       "</table>\n",
       "</div>"
      ],
      "text/plain": [
       "   Unnamed: 0  year manufacturer                     make  condition  \\\n",
       "0           0  2006      unknown                 Scion tc  excellent   \n",
       "1           1  2018        dodge              charger sxt    unknown   \n",
       "2           2  1997         ford  f 250 2 wheel dr pickup  excellent   \n",
       "3           3  2003          ram                      NaN    unknown   \n",
       "4           4  2000        dodge                     1500    unknown   \n",
       "\n",
       "     cylinders fuel       odometer title_status transmission    drive  \\\n",
       "0  4 cylinders  gas  180000<210000        clean    automatic  unknown   \n",
       "1        other  gas        unknown        clean    automatic  unknown   \n",
       "2        other  gas        unknown        clean    automatic  unknown   \n",
       "3  8 cylinders  gas        unknown        clean    automatic  unknown   \n",
       "4        other  gas        unknown        clean    automatic  unknown   \n",
       "\n",
       "      type state_name  weather  price  \n",
       "0  unknown   Maryland     56.0   3200  \n",
       "1  unknown   Illinois     48.0  30620  \n",
       "2   pickup   Michigan     45.0   1800  \n",
       "3  unknown      Texas     67.0   4500  \n",
       "4  unknown    Florida     65.0   1400  "
      ]
     },
     "execution_count": 52,
     "metadata": {},
     "output_type": "execute_result"
    }
   ],
   "source": [
    "cars.head()"
   ]
  },
  {
   "cell_type": "code",
   "execution_count": null,
   "metadata": {},
   "outputs": [],
   "source": []
  }
 ],
 "metadata": {
  "kernelspec": {
   "display_name": "Python 3",
   "language": "python",
   "name": "python3"
  },
  "language_info": {
   "codemirror_mode": {
    "name": "ipython",
    "version": 3
   },
   "file_extension": ".py",
   "mimetype": "text/x-python",
   "name": "python",
   "nbconvert_exporter": "python",
   "pygments_lexer": "ipython3",
   "version": "3.7.4"
  }
 },
 "nbformat": 4,
 "nbformat_minor": 2
}
