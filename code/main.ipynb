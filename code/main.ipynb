{
 "cells": [
  {
   "cell_type": "code",
   "execution_count": 1,
   "metadata": {},
   "outputs": [
    {
     "data": {
      "text/html": [
       "<table style=\"border: 2px solid white;\">\n",
       "<tr>\n",
       "<td style=\"vertical-align: top; border: 0px solid white\">\n",
       "<h3 style=\"text-align: left;\">Client</h3>\n",
       "<ul style=\"text-align: left; list-style: none; margin: 0; padding: 0;\">\n",
       "  <li><b>Scheduler: </b>tcp://127.0.0.1:36881</li>\n",
       "  <li><b>Dashboard: </b><a href='http://127.0.0.1:8787/status' target='_blank'>http://127.0.0.1:8787/status</a>\n",
       "</ul>\n",
       "</td>\n",
       "<td style=\"vertical-align: top; border: 0px solid white\">\n",
       "<h3 style=\"text-align: left;\">Cluster</h3>\n",
       "<ul style=\"text-align: left; list-style:none; margin: 0; padding: 0;\">\n",
       "  <li><b>Workers: </b>2</li>\n",
       "  <li><b>Cores: </b>6</li>\n",
       "  <li><b>Memory: </b>8.00 GB</li>\n",
       "</ul>\n",
       "</td>\n",
       "</tr>\n",
       "</table>"
      ],
      "text/plain": [
       "<Client: 'tcp://127.0.0.1:36881' processes=2 threads=6, memory=8.00 GB>"
      ]
     },
     "execution_count": 1,
     "metadata": {},
     "output_type": "execute_result"
    }
   ],
   "source": [
    "from dask.distributed import Client, progress\n",
    "client = Client(n_workers=2, threads_per_worker=3, memory_limit='4GB')\n",
    "client"
   ]
  },
  {
   "cell_type": "code",
   "execution_count": 2,
   "metadata": {},
   "outputs": [],
   "source": [
    "import dask\n",
    "import dask.dataframe as dd"
   ]
  },
  {
   "cell_type": "code",
   "execution_count": 3,
   "metadata": {},
   "outputs": [],
   "source": [
    "cars=dd.read_csv('./../input/cars_train.csv')"
   ]
  },
  {
   "cell_type": "code",
   "execution_count": 4,
   "metadata": {},
   "outputs": [
    {
     "data": {
      "text/html": [
       "<div>\n",
       "<style scoped>\n",
       "    .dataframe tbody tr th:only-of-type {\n",
       "        vertical-align: middle;\n",
       "    }\n",
       "\n",
       "    .dataframe tbody tr th {\n",
       "        vertical-align: top;\n",
       "    }\n",
       "\n",
       "    .dataframe thead th {\n",
       "        text-align: right;\n",
       "    }\n",
       "</style>\n",
       "<table border=\"1\" class=\"dataframe\">\n",
       "  <thead>\n",
       "    <tr style=\"text-align: right;\">\n",
       "      <th></th>\n",
       "      <th>Id</th>\n",
       "      <th>city</th>\n",
       "      <th>year</th>\n",
       "      <th>manufacturer</th>\n",
       "      <th>make</th>\n",
       "      <th>condition</th>\n",
       "      <th>cylinders</th>\n",
       "      <th>fuel</th>\n",
       "      <th>odometer</th>\n",
       "      <th>title_status</th>\n",
       "      <th>...</th>\n",
       "      <th>paint_color</th>\n",
       "      <th>lat</th>\n",
       "      <th>long</th>\n",
       "      <th>county_fips</th>\n",
       "      <th>county_name</th>\n",
       "      <th>state_fips</th>\n",
       "      <th>state_code</th>\n",
       "      <th>state_name</th>\n",
       "      <th>weather</th>\n",
       "      <th>price</th>\n",
       "    </tr>\n",
       "  </thead>\n",
       "  <tbody>\n",
       "    <tr>\n",
       "      <td>0</td>\n",
       "      <td>559327</td>\n",
       "      <td>baltimore</td>\n",
       "      <td>2006.0</td>\n",
       "      <td>NaN</td>\n",
       "      <td>Scion tc</td>\n",
       "      <td>excellent</td>\n",
       "      <td>4 cylinders</td>\n",
       "      <td>gas</td>\n",
       "      <td>190000.0</td>\n",
       "      <td>clean</td>\n",
       "      <td>...</td>\n",
       "      <td>blue</td>\n",
       "      <td>39.287000</td>\n",
       "      <td>-76.647600</td>\n",
       "      <td>24510.0</td>\n",
       "      <td>Baltimore City</td>\n",
       "      <td>24.0</td>\n",
       "      <td>MD</td>\n",
       "      <td>Maryland</td>\n",
       "      <td>56.0</td>\n",
       "      <td>3200</td>\n",
       "    </tr>\n",
       "    <tr>\n",
       "      <td>1</td>\n",
       "      <td>1429566</td>\n",
       "      <td>carbondale</td>\n",
       "      <td>2018.0</td>\n",
       "      <td>dodge</td>\n",
       "      <td>charger sxt</td>\n",
       "      <td>NaN</td>\n",
       "      <td>NaN</td>\n",
       "      <td>gas</td>\n",
       "      <td>NaN</td>\n",
       "      <td>clean</td>\n",
       "      <td>...</td>\n",
       "      <td>NaN</td>\n",
       "      <td>37.720000</td>\n",
       "      <td>-89.215800</td>\n",
       "      <td>17077.0</td>\n",
       "      <td>Jackson</td>\n",
       "      <td>17.0</td>\n",
       "      <td>IL</td>\n",
       "      <td>Illinois</td>\n",
       "      <td>48.0</td>\n",
       "      <td>30620</td>\n",
       "    </tr>\n",
       "    <tr>\n",
       "      <td>2</td>\n",
       "      <td>931606</td>\n",
       "      <td>thumb</td>\n",
       "      <td>1997.0</td>\n",
       "      <td>ford</td>\n",
       "      <td>f 250 2 wheel dr pickup</td>\n",
       "      <td>fair</td>\n",
       "      <td>NaN</td>\n",
       "      <td>gas</td>\n",
       "      <td>NaN</td>\n",
       "      <td>clean</td>\n",
       "      <td>...</td>\n",
       "      <td>white</td>\n",
       "      <td>43.483300</td>\n",
       "      <td>-83.383500</td>\n",
       "      <td>26157.0</td>\n",
       "      <td>Tuscola</td>\n",
       "      <td>26.0</td>\n",
       "      <td>MI</td>\n",
       "      <td>Michigan</td>\n",
       "      <td>45.0</td>\n",
       "      <td>1800</td>\n",
       "    </tr>\n",
       "    <tr>\n",
       "      <td>3</td>\n",
       "      <td>1265412</td>\n",
       "      <td>laredo</td>\n",
       "      <td>2003.0</td>\n",
       "      <td>ram</td>\n",
       "      <td>NaN</td>\n",
       "      <td>NaN</td>\n",
       "      <td>8 cylinders</td>\n",
       "      <td>gas</td>\n",
       "      <td>NaN</td>\n",
       "      <td>clean</td>\n",
       "      <td>...</td>\n",
       "      <td>NaN</td>\n",
       "      <td>27.850069</td>\n",
       "      <td>-99.668883</td>\n",
       "      <td>48479.0</td>\n",
       "      <td>Webb</td>\n",
       "      <td>48.0</td>\n",
       "      <td>TX</td>\n",
       "      <td>Texas</td>\n",
       "      <td>67.0</td>\n",
       "      <td>4500</td>\n",
       "    </tr>\n",
       "    <tr>\n",
       "      <td>4</td>\n",
       "      <td>1133731</td>\n",
       "      <td>ocala</td>\n",
       "      <td>2000.0</td>\n",
       "      <td>dodge</td>\n",
       "      <td>1500</td>\n",
       "      <td>NaN</td>\n",
       "      <td>NaN</td>\n",
       "      <td>gas</td>\n",
       "      <td>NaN</td>\n",
       "      <td>clean</td>\n",
       "      <td>...</td>\n",
       "      <td>NaN</td>\n",
       "      <td>29.165000</td>\n",
       "      <td>-81.539900</td>\n",
       "      <td>12069.0</td>\n",
       "      <td>Lake</td>\n",
       "      <td>12.0</td>\n",
       "      <td>FL</td>\n",
       "      <td>Florida</td>\n",
       "      <td>65.0</td>\n",
       "      <td>1400</td>\n",
       "    </tr>\n",
       "  </tbody>\n",
       "</table>\n",
       "<p>5 rows × 24 columns</p>\n",
       "</div>"
      ],
      "text/plain": [
       "        Id        city    year manufacturer                     make  \\\n",
       "0   559327   baltimore  2006.0          NaN                 Scion tc   \n",
       "1  1429566  carbondale  2018.0        dodge              charger sxt   \n",
       "2   931606       thumb  1997.0         ford  f 250 2 wheel dr pickup   \n",
       "3  1265412      laredo  2003.0          ram                      NaN   \n",
       "4  1133731       ocala  2000.0        dodge                     1500   \n",
       "\n",
       "   condition    cylinders fuel  odometer title_status  ... paint_color  \\\n",
       "0  excellent  4 cylinders  gas  190000.0        clean  ...        blue   \n",
       "1        NaN          NaN  gas       NaN        clean  ...         NaN   \n",
       "2       fair          NaN  gas       NaN        clean  ...       white   \n",
       "3        NaN  8 cylinders  gas       NaN        clean  ...         NaN   \n",
       "4        NaN          NaN  gas       NaN        clean  ...         NaN   \n",
       "\n",
       "         lat       long county_fips     county_name  state_fips  state_code  \\\n",
       "0  39.287000 -76.647600     24510.0  Baltimore City        24.0          MD   \n",
       "1  37.720000 -89.215800     17077.0         Jackson        17.0          IL   \n",
       "2  43.483300 -83.383500     26157.0         Tuscola        26.0          MI   \n",
       "3  27.850069 -99.668883     48479.0            Webb        48.0          TX   \n",
       "4  29.165000 -81.539900     12069.0            Lake        12.0          FL   \n",
       "\n",
       "   state_name weather  price  \n",
       "0    Maryland    56.0   3200  \n",
       "1    Illinois    48.0  30620  \n",
       "2    Michigan    45.0   1800  \n",
       "3       Texas    67.0   4500  \n",
       "4     Florida    65.0   1400  \n",
       "\n",
       "[5 rows x 24 columns]"
      ]
     },
     "execution_count": 4,
     "metadata": {},
     "output_type": "execute_result"
    }
   ],
   "source": [
    "cars.head()"
   ]
  },
  {
   "cell_type": "code",
   "execution_count": 5,
   "metadata": {},
   "outputs": [
    {
     "data": {
      "text/plain": [
       "(469992, 24)"
      ]
     },
     "execution_count": 5,
     "metadata": {},
     "output_type": "execute_result"
    }
   ],
   "source": [
    "cars.compute().shape"
   ]
  },
  {
   "cell_type": "code",
   "execution_count": 6,
   "metadata": {},
   "outputs": [
    {
     "data": {
      "text/plain": [
       "Id                int64\n",
       "city             object\n",
       "year            float64\n",
       "manufacturer     object\n",
       "make             object\n",
       "condition        object\n",
       "cylinders        object\n",
       "fuel             object\n",
       "odometer        float64\n",
       "title_status     object\n",
       "transmission     object\n",
       "drive            object\n",
       "size             object\n",
       "type             object\n",
       "paint_color      object\n",
       "lat             float64\n",
       "long            float64\n",
       "county_fips     float64\n",
       "county_name      object\n",
       "state_fips      float64\n",
       "state_code       object\n",
       "state_name       object\n",
       "weather         float64\n",
       "price             int64\n",
       "dtype: object"
      ]
     },
     "execution_count": 6,
     "metadata": {},
     "output_type": "execute_result"
    }
   ],
   "source": [
    "cars.dtypes"
   ]
  },
  {
   "cell_type": "code",
   "execution_count": 7,
   "metadata": {},
   "outputs": [
    {
     "data": {
      "text/plain": [
       "Id                   0\n",
       "city                 0\n",
       "year              1713\n",
       "manufacturer     37260\n",
       "make             19078\n",
       "condition       191021\n",
       "cylinders       188076\n",
       "fuel              2844\n",
       "odometer        153465\n",
       "title_status       708\n",
       "transmission      2447\n",
       "drive           180334\n",
       "size            306775\n",
       "type            191640\n",
       "paint_color     189613\n",
       "lat                  0\n",
       "long                 0\n",
       "county_fips      16009\n",
       "county_name      16009\n",
       "state_fips       16009\n",
       "state_code       16009\n",
       "state_name           0\n",
       "weather          16182\n",
       "price                0\n",
       "dtype: int64"
      ]
     },
     "execution_count": 7,
     "metadata": {},
     "output_type": "execute_result"
    }
   ],
   "source": [
    "cars.isnull().sum().compute()"
   ]
  },
  {
   "cell_type": "code",
   "execution_count": 8,
   "metadata": {},
   "outputs": [
    {
     "data": {
      "text/plain": [
       "Id                   0\n",
       "city                 0\n",
       "year              1713\n",
       "manufacturer     37260\n",
       "make             19078\n",
       "condition       191021\n",
       "cylinders       188076\n",
       "fuel              2844\n",
       "odometer        153465\n",
       "title_status       708\n",
       "transmission      2447\n",
       "drive           180334\n",
       "size            306775\n",
       "type            191640\n",
       "paint_color     189613\n",
       "lat                  0\n",
       "long                 0\n",
       "county_fips      16009\n",
       "county_name      16009\n",
       "state_fips       16009\n",
       "state_code       16009\n",
       "state_name           0\n",
       "weather          16182\n",
       "price                0\n",
       "dtype: int64"
      ]
     },
     "execution_count": 8,
     "metadata": {},
     "output_type": "execute_result"
    }
   ],
   "source": [
    "cars.isna().sum().compute()"
   ]
  },
  {
   "cell_type": "code",
   "execution_count": 9,
   "metadata": {},
   "outputs": [],
   "source": [
    "'''por lo pronto veo que hay varias columnas que se refieren a la localización, por lo que creo que voy a quedar\n",
    "solo con una,stateName, que no tiene nulos y ademas tiene 52 unicos, que coincide con los 50 estados de USA,cuento\n",
    "los desconocidos y corrijo un pequeño error'''\n",
    "listaEstados=list(cars.state_name.unique().compute())"
   ]
  },
  {
   "cell_type": "code",
   "execution_count": 10,
   "metadata": {},
   "outputs": [
    {
     "data": {
      "text/plain": [
       "52"
      ]
     },
     "execution_count": 10,
     "metadata": {},
     "output_type": "execute_result"
    }
   ],
   "source": [
    "len(listaEstados)"
   ]
  },
  {
   "cell_type": "code",
   "execution_count": 11,
   "metadata": {},
   "outputs": [
    {
     "data": {
      "text/plain": [
       "FAILED    16009\n",
       "Name: state_name, dtype: int64"
      ]
     },
     "execution_count": 11,
     "metadata": {},
     "output_type": "execute_result"
    }
   ],
   "source": [
    "cars[cars.state_name=='FAILED'].state_name.value_counts().compute()"
   ]
  },
  {
   "cell_type": "code",
   "execution_count": 12,
   "metadata": {},
   "outputs": [
    {
     "data": {
      "text/plain": [
       "'coincide con los valores de nulos en code,fips, voy a mirar las esas filas de la columnas ciudad, igual puedo sacar el estado de esas 16000'"
      ]
     },
     "execution_count": 12,
     "metadata": {},
     "output_type": "execute_result"
    }
   ],
   "source": [
    "\"coincide con los valores de nulos en code,fips, voy a mirar las esas filas de la columnas ciudad, igual puedo sacar el estado de esas 16000\""
   ]
  },
  {
   "cell_type": "code",
   "execution_count": 13,
   "metadata": {},
   "outputs": [
    {
     "data": {
      "text/plain": [
       "0      abbotsford\n",
       "1       vancouver\n",
       "2         kelowna\n",
       "3         nanaimo\n",
       "4        winnipeg\n",
       "          ...    \n",
       "260      limaohio\n",
       "261    providence\n",
       "262    charleston\n",
       "263        monroe\n",
       "264        ithaca\n",
       "Name: city, Length: 265, dtype: object"
      ]
     },
     "execution_count": 13,
     "metadata": {},
     "output_type": "execute_result"
    }
   ],
   "source": [
    "cars[cars.state_name=='FAILED'].city.unique().compute()"
   ]
  },
  {
   "cell_type": "code",
   "execution_count": 14,
   "metadata": {},
   "outputs": [
    {
     "data": {
      "text/plain": [
       "13696"
      ]
     },
     "execution_count": 14,
     "metadata": {},
     "output_type": "execute_result"
    }
   ],
   "source": [
    "\"\"\"Hay demasiadas como para hacerlas a mano, además hay ciudades de Canada, voy a hacer el value count a ver si puedo\n",
    "rescatar la mayoría a mano, resulta que las 20 con más registros cubren 13600 casos de los 16.000 y son todas\n",
    "ciudades canadienses, en Canadá el volante lo tienen a la derecha, y eso es algo que influye mucho en el precio,\n",
    "por lo que tenemos valor de estado, para 1000 y pico que restan creo que merece la pena tambien categorizarlas\n",
    "como canada, antes que desconocido, porque me da que vamos a acertar más que fallar\"\"\"\n",
    "cars[cars.state_name=='FAILED'].city.value_counts().head(10).sum()\n"
   ]
  },
  {
   "cell_type": "code",
   "execution_count": 15,
   "metadata": {},
   "outputs": [
    {
     "data": {
      "text/plain": [
       "(Index(['vancouver', 'abbotsford', 'whistler', 'victoria', 'nanaimo', 'kelowna',\n",
       "        'comoxvalley', 'kamloops', 'toronto', 'sunshine', 'princegeorge',\n",
       "        'montreal', 'kootenays', 'calgary', 'edmonton', 'cariboo', 'ftmcmurray',\n",
       "        'ottawa', 'skeena', 'saskatoon'],\n",
       "       dtype='object'),)"
      ]
     },
     "execution_count": 15,
     "metadata": {},
     "output_type": "execute_result"
    }
   ],
   "source": [
    "cars[cars.state_name=='FAILED'].city.value_counts().head(20).index,"
   ]
  },
  {
   "cell_type": "code",
   "execution_count": 16,
   "metadata": {},
   "outputs": [
    {
     "name": "stderr",
     "output_type": "stream",
     "text": [
      "/home/curro/Repos/clean-p/env/lib/python3.6/site-packages/dask/dataframe/core.py:2957: UserWarning: \n",
      "You did not provide metadata, so Dask is running your function on a small dataset to guess output types. It is possible that Dask will guess incorrectly.\n",
      "To provide an explicit output types or to silence this message, please provide the `meta=` keyword, as described in the map or apply function that you are using.\n",
      "  Before: .apply(func)\n",
      "  After:  .apply(func, meta=('state_name', 'object'))\n",
      "\n",
      "  warnings.warn(meta_warning(meta))\n"
     ]
    }
   ],
   "source": [
    "#Todas son ciudades de canada\n",
    "from preparingDf import cleanNameStateName,dropLocationColumns\n",
    "cars.state_name=cars.state_name.apply(cleanNameStateName)\n",
    "cars= dropLocationColumns(cars)"
   ]
  },
  {
   "cell_type": "code",
   "execution_count": 17,
   "metadata": {},
   "outputs": [
    {
     "data": {
      "text/html": [
       "<div>\n",
       "<style scoped>\n",
       "    .dataframe tbody tr th:only-of-type {\n",
       "        vertical-align: middle;\n",
       "    }\n",
       "\n",
       "    .dataframe tbody tr th {\n",
       "        vertical-align: top;\n",
       "    }\n",
       "\n",
       "    .dataframe thead th {\n",
       "        text-align: right;\n",
       "    }\n",
       "</style>\n",
       "<table border=\"1\" class=\"dataframe\">\n",
       "  <thead>\n",
       "    <tr style=\"text-align: right;\">\n",
       "      <th></th>\n",
       "      <th>Id</th>\n",
       "      <th>year</th>\n",
       "      <th>manufacturer</th>\n",
       "      <th>make</th>\n",
       "      <th>condition</th>\n",
       "      <th>cylinders</th>\n",
       "      <th>fuel</th>\n",
       "      <th>odometer</th>\n",
       "      <th>title_status</th>\n",
       "      <th>transmission</th>\n",
       "      <th>drive</th>\n",
       "      <th>size</th>\n",
       "      <th>type</th>\n",
       "      <th>paint_color</th>\n",
       "      <th>state_name</th>\n",
       "      <th>weather</th>\n",
       "      <th>price</th>\n",
       "    </tr>\n",
       "  </thead>\n",
       "  <tbody>\n",
       "    <tr>\n",
       "      <td>0</td>\n",
       "      <td>559327</td>\n",
       "      <td>2006.0</td>\n",
       "      <td>NaN</td>\n",
       "      <td>Scion tc</td>\n",
       "      <td>excellent</td>\n",
       "      <td>4 cylinders</td>\n",
       "      <td>gas</td>\n",
       "      <td>190000.0</td>\n",
       "      <td>clean</td>\n",
       "      <td>automatic</td>\n",
       "      <td>NaN</td>\n",
       "      <td>NaN</td>\n",
       "      <td>NaN</td>\n",
       "      <td>blue</td>\n",
       "      <td>Maryland</td>\n",
       "      <td>56.0</td>\n",
       "      <td>3200</td>\n",
       "    </tr>\n",
       "    <tr>\n",
       "      <td>1</td>\n",
       "      <td>1429566</td>\n",
       "      <td>2018.0</td>\n",
       "      <td>dodge</td>\n",
       "      <td>charger sxt</td>\n",
       "      <td>NaN</td>\n",
       "      <td>NaN</td>\n",
       "      <td>gas</td>\n",
       "      <td>NaN</td>\n",
       "      <td>clean</td>\n",
       "      <td>automatic</td>\n",
       "      <td>NaN</td>\n",
       "      <td>NaN</td>\n",
       "      <td>NaN</td>\n",
       "      <td>NaN</td>\n",
       "      <td>Illinois</td>\n",
       "      <td>48.0</td>\n",
       "      <td>30620</td>\n",
       "    </tr>\n",
       "    <tr>\n",
       "      <td>2</td>\n",
       "      <td>931606</td>\n",
       "      <td>1997.0</td>\n",
       "      <td>ford</td>\n",
       "      <td>f 250 2 wheel dr pickup</td>\n",
       "      <td>fair</td>\n",
       "      <td>NaN</td>\n",
       "      <td>gas</td>\n",
       "      <td>NaN</td>\n",
       "      <td>clean</td>\n",
       "      <td>automatic</td>\n",
       "      <td>NaN</td>\n",
       "      <td>NaN</td>\n",
       "      <td>pickup</td>\n",
       "      <td>white</td>\n",
       "      <td>Michigan</td>\n",
       "      <td>45.0</td>\n",
       "      <td>1800</td>\n",
       "    </tr>\n",
       "    <tr>\n",
       "      <td>3</td>\n",
       "      <td>1265412</td>\n",
       "      <td>2003.0</td>\n",
       "      <td>ram</td>\n",
       "      <td>NaN</td>\n",
       "      <td>NaN</td>\n",
       "      <td>8 cylinders</td>\n",
       "      <td>gas</td>\n",
       "      <td>NaN</td>\n",
       "      <td>clean</td>\n",
       "      <td>automatic</td>\n",
       "      <td>NaN</td>\n",
       "      <td>NaN</td>\n",
       "      <td>NaN</td>\n",
       "      <td>NaN</td>\n",
       "      <td>Texas</td>\n",
       "      <td>67.0</td>\n",
       "      <td>4500</td>\n",
       "    </tr>\n",
       "    <tr>\n",
       "      <td>4</td>\n",
       "      <td>1133731</td>\n",
       "      <td>2000.0</td>\n",
       "      <td>dodge</td>\n",
       "      <td>1500</td>\n",
       "      <td>NaN</td>\n",
       "      <td>NaN</td>\n",
       "      <td>gas</td>\n",
       "      <td>NaN</td>\n",
       "      <td>clean</td>\n",
       "      <td>automatic</td>\n",
       "      <td>NaN</td>\n",
       "      <td>NaN</td>\n",
       "      <td>NaN</td>\n",
       "      <td>NaN</td>\n",
       "      <td>Florida</td>\n",
       "      <td>65.0</td>\n",
       "      <td>1400</td>\n",
       "    </tr>\n",
       "  </tbody>\n",
       "</table>\n",
       "</div>"
      ],
      "text/plain": [
       "        Id    year manufacturer                     make  condition  \\\n",
       "0   559327  2006.0          NaN                 Scion tc  excellent   \n",
       "1  1429566  2018.0        dodge              charger sxt        NaN   \n",
       "2   931606  1997.0         ford  f 250 2 wheel dr pickup       fair   \n",
       "3  1265412  2003.0          ram                      NaN        NaN   \n",
       "4  1133731  2000.0        dodge                     1500        NaN   \n",
       "\n",
       "     cylinders fuel  odometer title_status transmission drive size    type  \\\n",
       "0  4 cylinders  gas  190000.0        clean    automatic   NaN  NaN     NaN   \n",
       "1          NaN  gas       NaN        clean    automatic   NaN  NaN     NaN   \n",
       "2          NaN  gas       NaN        clean    automatic   NaN  NaN  pickup   \n",
       "3  8 cylinders  gas       NaN        clean    automatic   NaN  NaN     NaN   \n",
       "4          NaN  gas       NaN        clean    automatic   NaN  NaN     NaN   \n",
       "\n",
       "  paint_color state_name  weather  price  \n",
       "0        blue   Maryland     56.0   3200  \n",
       "1         NaN   Illinois     48.0  30620  \n",
       "2       white   Michigan     45.0   1800  \n",
       "3         NaN      Texas     67.0   4500  \n",
       "4         NaN    Florida     65.0   1400  "
      ]
     },
     "execution_count": 17,
     "metadata": {},
     "output_type": "execute_result"
    }
   ],
   "source": [
    "cars.head()"
   ]
  },
  {
   "cell_type": "code",
   "execution_count": 18,
   "metadata": {},
   "outputs": [
    {
     "data": {
      "text/plain": [
       "51"
      ]
     },
     "execution_count": 18,
     "metadata": {},
     "output_type": "execute_result"
    }
   ],
   "source": [
    "len(cars.state_name.unique())#50 estados de USA + un valor para canadá"
   ]
  },
  {
   "cell_type": "code",
   "execution_count": 19,
   "metadata": {},
   "outputs": [
    {
     "data": {
      "text/plain": [
       "2007.0    29252\n",
       "2008.0    28085\n",
       "2006.0    27597\n",
       "2015.0    25785\n",
       "2005.0    25316\n",
       "          ...  \n",
       "1902.0        2\n",
       "1913.0        1\n",
       "1912.0        1\n",
       "1909.0        1\n",
       "1907.0        1\n",
       "Name: year, Length: 115, dtype: int64"
      ]
     },
     "execution_count": 19,
     "metadata": {},
     "output_type": "execute_result"
    }
   ],
   "source": [
    "#vamos con los años,\n",
    "cars.year.value_counts().compute()"
   ]
  },
  {
   "cell_type": "code",
   "execution_count": 20,
   "metadata": {},
   "outputs": [],
   "source": [
    "from preparingDf import fillnaYear,cleanYear\n",
    "cars = fillnaYear(cars)"
   ]
  },
  {
   "cell_type": "code",
   "execution_count": 27,
   "metadata": {},
   "outputs": [],
   "source": [
    "\"\"\"115 años me cuadra, esta columna me cuadra, los perdidos lo voy a inicializar a 0.0, y despues voy a hacer un\n",
    "cast a string porque quiero tener esta columna como object para cuando llegue la fase de preparación\"\"\"\n",
    "\n",
    "cars.year=cars.year.apply(cleanYear,meta=('year', 'object'))"
   ]
  },
  {
   "cell_type": "code",
   "execution_count": 30,
   "metadata": {},
   "outputs": [
    {
     "data": {
      "text/plain": [
       "Id                int64\n",
       "year             object\n",
       "manufacturer     object\n",
       "make             object\n",
       "condition        object\n",
       "cylinders        object\n",
       "fuel             object\n",
       "odometer        float64\n",
       "title_status     object\n",
       "transmission     object\n",
       "drive            object\n",
       "size             object\n",
       "type             object\n",
       "paint_color      object\n",
       "state_name       object\n",
       "weather         float64\n",
       "price             int64\n",
       "dtype: object"
      ]
     },
     "execution_count": 30,
     "metadata": {},
     "output_type": "execute_result"
    }
   ],
   "source": [
    "cars.dtypes"
   ]
  },
  {
   "cell_type": "code",
   "execution_count": null,
   "metadata": {},
   "outputs": [],
   "source": []
  }
 ],
 "metadata": {
  "kernelspec": {
   "display_name": "Python 3",
   "language": "python",
   "name": "python3"
  },
  "language_info": {
   "codemirror_mode": {
    "name": "ipython",
    "version": 3
   },
   "file_extension": ".py",
   "mimetype": "text/x-python",
   "name": "python",
   "nbconvert_exporter": "python",
   "pygments_lexer": "ipython3",
   "version": "3.6.8"
  }
 },
 "nbformat": 4,
 "nbformat_minor": 2
}
